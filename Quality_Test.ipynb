{
 "cells": [
  {
   "cell_type": "code",
   "execution_count": 0,
   "metadata": {
    "application/vnd.databricks.v1+cell": {
     "cellMetadata": {
      "byteLimit": 2048000,
      "rowLimit": 10000
     },
     "inputWidgets": {},
     "nuid": "2678285e-c6cf-4160-9a14-de5037839442",
     "showTitle": false,
     "title": ""
    }
   },
   "outputs": [],
   "source": [
    "import re\n",
    "import pandas as pd\n",
    "import json\n",
    "import matplotlib.pyplot as plt\n",
    "\n"
   ]
  },
  {
   "cell_type": "code",
   "execution_count": 0,
   "metadata": {
    "application/vnd.databricks.v1+cell": {
     "cellMetadata": {
      "byteLimit": 2048000,
      "rowLimit": 10000
     },
     "inputWidgets": {},
     "nuid": "7069cd7d-1f19-4345-90f8-38936897dafb",
     "showTitle": false,
     "title": ""
    }
   },
   "outputs": [],
   "source": [
    "def null_check(df, column):\n",
    "    # print(df[column])\n",
    "    return df[column].isnull().sum()\n",
    "\n"
   ]
  },
  {
   "cell_type": "code",
   "execution_count": 0,
   "metadata": {
    "application/vnd.databricks.v1+cell": {
     "cellMetadata": {
      "byteLimit": 2048000,
      "rowLimit": 10000
     },
     "inputWidgets": {},
     "nuid": "7b4a9172-ff7a-4b6a-bded-e560fd1af539",
     "showTitle": false,
     "title": ""
    }
   },
   "outputs": [],
   "source": [
    "def range_check(df, column, minimum, maximum):\n",
    "    s = pd.Series(df[column].astype(str))\n",
    "    # print(s)\n",
    "    return len(s) - s.between(minimum, maximum).sum()\n",
    "\n"
   ]
  },
  {
   "cell_type": "code",
   "execution_count": 0,
   "metadata": {
    "application/vnd.databricks.v1+cell": {
     "cellMetadata": {
      "byteLimit": 2048000,
      "rowLimit": 10000
     },
     "inputWidgets": {},
     "nuid": "c8d8e4ff-a5b0-4e04-809e-90825bf39c63",
     "showTitle": false,
     "title": ""
    }
   },
   "outputs": [],
   "source": [
    "def total_error_percentage(df, errors):\n",
    "    return (errors / df.size) * 100\n"
   ]
  },
  {
   "cell_type": "code",
   "execution_count": 0,
   "metadata": {
    "application/vnd.databricks.v1+cell": {
     "cellMetadata": {
      "byteLimit": 2048000,
      "rowLimit": 10000
     },
     "inputWidgets": {},
     "nuid": "a34b6c6c-2b03-4b5a-a63e-91983b8aa24f",
     "showTitle": false,
     "title": ""
    }
   },
   "outputs": [],
   "source": [
    "\n",
    "def format_check(df, column, regex):\n",
    "    non_errors = 0\n",
    "\n",
    "    s = pd.Series(df[column]).astype(str)\n",
    "    for string in s:\n",
    "        if bool(re.fullmatch(regex, string)):\n",
    "            non_errors += 1\n",
    "\n",
    "    errors = len(s) - non_errors\n",
    "    return errors"
   ]
  },
  {
   "cell_type": "code",
   "execution_count": 0,
   "metadata": {
    "application/vnd.databricks.v1+cell": {
     "cellMetadata": {
      "byteLimit": 2048000,
      "rowLimit": 10000
     },
     "inputWidgets": {},
     "nuid": "af81c123-20b0-4e43-a1ce-63c348211cd9",
     "showTitle": false,
     "title": ""
    }
   },
   "outputs": [],
   "source": [
    "def value_check(df, column, value):\n",
    "    errors = 0\n",
    "\n",
    "    if isinstance(value, list):\n",
    "        for row in df[column].astype(str):\n",
    "            if row not in value:\n",
    "                errors += 1\n",
    "\n",
    "    else:\n",
    "        for row in df[column].astype(str):\n",
    "            if row != value:\n",
    "                errors += 1\n",
    "\n",
    "    return errors"
   ]
  },
  {
   "cell_type": "code",
   "execution_count": 0,
   "metadata": {
    "application/vnd.databricks.v1+cell": {
     "cellMetadata": {
      "byteLimit": 2048000,
      "rowLimit": 10000
     },
     "inputWidgets": {},
     "nuid": "7650969f-12a2-4659-8d5b-c4f0e83415d0",
     "showTitle": false,
     "title": ""
    }
   },
   "outputs": [],
   "source": [
    "from pyspark.sql import SparkSession\n",
    "from pyspark.sql import Row\n",
    "\n",
    "spark = SparkSession.builder.appName(\"DataQuality\").getOrCreate()\n",
    "\n",
    "from pyspark.sql.types import StructType, StructField, FloatType, StringType\n",
    "def visualize(data_dict, checks):\n",
    "    # Define the schema\n",
    "    schema = StructType([\n",
    "        StructField(\"Columns\", StringType(), True),\n",
    "        StructField(\"Error_perc_for_\"+checks, FloatType(), True)\n",
    "    ])\n",
    "\n",
    "    rows = []\n",
    "    for key, value in data_dict.items():\n",
    "        value = float(value) if isinstance(value, (float, int)) else value\n",
    "        rows.append(Row(Columns=key, Null_percentage=value))\n",
    "\n",
    "    df = spark.createDataFrame(rows, schema=schema)\n",
    "\n",
    "    # Show the DataFrame\n",
    "    display(df)\n",
    "    return "
   ]
  },
  {
   "cell_type": "code",
   "execution_count": 0,
   "metadata": {
    "application/vnd.databricks.v1+cell": {
     "cellMetadata": {
      "byteLimit": 2048000,
      "rowLimit": 10000
     },
     "inputWidgets": {},
     "nuid": "0ae0b1fc-3b5b-45a0-90b9-d486abab8560",
     "showTitle": false,
     "title": ""
    }
   },
   "outputs": [],
   "source": [
    "\n",
    "def run_quality_checks(dataset_index):\n",
    "    result_map = {}\n",
    "\n",
    "    with open('config.json', 'r') as file:\n",
    "        errors = 0\n",
    "        total_nulls = 0\n",
    "        total_format_errors = 0\n",
    "        total_value_errors = 0\n",
    "\n",
    "        config = json.loads(file.read())\n",
    "\n",
    "        dataset_profile = config[dataset_index]\n",
    "\n",
    "        dataframe = pd.read_csv(dataset_profile['dataset'])\n",
    "\n",
    "        # checks object\n",
    "        checks = dataset_profile['checks'][0]\n",
    "\n",
    "        # print(checks)\n",
    "\n",
    "        # checks to run on the dataset\n",
    "        keys = list(checks.keys())\n",
    "\n",
    "        # print(keys)\n",
    "        null_output = {}\n",
    "        range_output = {}\n",
    "        format_output = {}\n",
    "        value_output = {}\n",
    "\n",
    "        for i, check in enumerate(checks):\n",
    "\n",
    "            # print(check)\n",
    "            if check == 'null_check':\n",
    "\n",
    "                for column in checks[check]:\n",
    "                    # print(dataframe[column])\n",
    "                    nulls = null_check(dataframe, column)\n",
    "\n",
    "                    perc = (nulls / dataframe.size) * 100\n",
    "\n",
    "                    null_output[column] = perc\n",
    "\n",
    "                    total_nulls += nulls\n",
    "                    errors += nulls\n",
    "                    # print(nulls)\n",
    "\n",
    "\n",
    "            elif check == \"range_check\":\n",
    "                # columns\n",
    "                if isinstance(checks[keys[i]], list):\n",
    "                    for item in checks[keys[i]]:\n",
    "                        for key, value in item.items():\n",
    "                            column = key\n",
    "                            range = value\n",
    "                            constraints = range.split('-')\n",
    "                            range_errors = range_check(dataframe, column, constraints[0], constraints[1])\n",
    "                            range_output[column] = (range_errors / dataframe.size) * 100\n",
    "\n",
    "\n",
    "                else:\n",
    "                    columns = list(checks[check])\n",
    "                    ranges = list(checks[check].values())\n",
    "                    for i, column in enumerate(columns):\n",
    "                        constraints = ranges[i].split('-')\n",
    "                        # print(constraints[0], constraints[1])\n",
    "                        range_errors = range_check(dataframe, column, constraints[0], constraints[1])\n",
    "                        range_output[column] = (range_errors / dataframe.size) * 100\n",
    "\n",
    "\n",
    "\n",
    "            elif check == \"total_error_percentage\":\n",
    "                print(\"Total errors: \", total_error_percentage(dataframe, errors))\n",
    "\n",
    "            elif check == \"format_check\":\n",
    "                columns = list(checks[check].keys())\n",
    "                regex = list(checks[check].values())\n",
    "                for i, column in enumerate(columns):\n",
    "                    print(column, regex[i])\n",
    "                    format_errors = format_check(dataframe, column, regex[i])\n",
    "                    errors += format_errors\n",
    "                    total_format_errors += format_errors\n",
    "                    format_output[column] = (format_errors / dataframe.size) * 100\n",
    "\n",
    "\n",
    "            elif check == \"value_check\":\n",
    "                columns = list(checks[check].keys())\n",
    "                values = list(checks[check].values())\n",
    "                for i, column in enumerate(columns):\n",
    "                    value_errors = value_check(dataframe, column, values[i])\n",
    "                    errors += value_errors\n",
    "                    total_value_errors += value_errors\n",
    "                    value_output[column] = (value_errors / dataframe.size) * 100\n",
    "\n",
    "\n",
    "            elif check == \"total_null_errors\":\n",
    "                print(\"Total nulls: \", total_nulls)\n",
    "\n",
    "            elif check == \"total_format_errors\":\n",
    "                print(\"Total format errors: \", total_format_errors)\n",
    "\n",
    "            elif check == \"total_value_errors\":\n",
    "                print(\"Total value errors: \", total_value_errors)\n",
    "\n",
    "            elif check == \"total_number_errors\":\n",
    "                print(\"Total errors: \", errors)\n",
    "\n",
    "        visualize(null_output,\"null_check\")\n",
    "        visualize(range_output,\"range_check\")\n",
    "        visualize(format_output, \"format_check\")\n",
    "        visualize(value_output, \"value_check\")\n",
    "        \n",
    "    return \n",
    "\n"
   ]
  },
  {
   "cell_type": "code",
   "execution_count": 0,
   "metadata": {
    "application/vnd.databricks.v1+cell": {
     "cellMetadata": {
      "byteLimit": 2048000,
      "rowLimit": 10000
     },
     "inputWidgets": {},
     "nuid": "096966d8-4dfa-4c35-8ab4-e088ddf0a2e2",
     "showTitle": false,
     "title": ""
    }
   },
   "outputs": [
    {
     "output_type": "stream",
     "name": "stdout",
     "output_type": "stream",
     "text": [
      "Total errors:  2.0238095238095237\nTotal errors:  17\n"
     ]
    },
    {
     "output_type": "display_data",
     "data": {
      "text/html": [
       "<style scoped>\n",
       "  .table-result-container {\n",
       "    max-height: 300px;\n",
       "    overflow: auto;\n",
       "  }\n",
       "  table, th, td {\n",
       "    border: 1px solid black;\n",
       "    border-collapse: collapse;\n",
       "  }\n",
       "  th, td {\n",
       "    padding: 5px;\n",
       "  }\n",
       "  th {\n",
       "    text-align: left;\n",
       "  }\n",
       "</style><div class='table-result-container'><table class='table-result'><thead style='background-color: white'><tr><th>Columns</th><th>Error_perc_for_null_check</th></tr></thead><tbody><tr><td>Total energy consumption of primary fuels and equivalents</td><td>1.0714285</td></tr><tr><td>Fraction from renewable sources and waste</td><td>0.95238096</td></tr></tbody></table></div>"
      ]
     },
     "metadata": {
      "application/vnd.databricks.v1+output": {
       "addedWidgets": {},
       "aggData": [],
       "aggError": "",
       "aggOverflow": false,
       "aggSchema": [],
       "aggSeriesLimitReached": false,
       "aggType": "",
       "arguments": {},
       "columnCustomDisplayInfos": {},
       "data": [
        [
         "Total energy consumption of primary fuels and equivalents",
         1.0714285
        ],
        [
         "Fraction from renewable sources and waste",
         0.95238096
        ]
       ],
       "datasetInfos": [],
       "dbfsResultPath": null,
       "isJsonSchema": true,
       "metadata": {},
       "overflow": false,
       "plotOptions": {
        "customPlotOptions": {},
        "displayType": "table",
        "pivotAggregation": null,
        "pivotColumns": null,
        "xColumns": null,
        "yColumns": null
       },
       "removedWidgets": [],
       "schema": [
        {
         "metadata": "{}",
         "name": "Columns",
         "type": "\"string\""
        },
        {
         "metadata": "{}",
         "name": "Error_perc_for_null_check",
         "type": "\"float\""
        }
       ],
       "type": "table"
      }
     },
     "output_type": "display_data"
    },
    {
     "output_type": "display_data",
     "data": {
      "text/plain": [
       "Databricks visualization. Run in Databricks to view."
      ]
     },
     "metadata": {
      "application/vnd.databricks.v1.subcommand+json": {
       "baseErrorDetails": null,
       "bindings": {},
       "collapsed": false,
       "command": "%python\n__backend_agg_display_orig = display\n__backend_agg_dfs = []\ndef __backend_agg_display_new(df):\n    __backend_agg_df_modules = [\"pandas.core.frame\", \"databricks.koalas.frame\", \"pyspark.sql.dataframe\", \"pyspark.pandas.frame\", \"pyspark.sql.connect.dataframe\"]\n    if (type(df).__module__ in __backend_agg_df_modules and type(df).__name__ == 'DataFrame') or isinstance(df, list):\n        __backend_agg_dfs.append(df)\n\ndisplay = __backend_agg_display_new\n\ndef __backend_agg_user_code_fn():\n    import base64\n    exec(base64.standard_b64decode(\"CmlmIF9fbmFtZV9fID09ICdfX21haW5fXyc6CiAgICAjZm9yIGkgaW4gcmFuZ2UoNSk6CiAgICBydW5fcXVhbGl0eV9jaGVja3MoMSkKCiAgICAnJydyZXN1bHRfZGF0YSA9IHJ1bl9xdWFsaXR5X2NoZWNrcygxKQogICAgcHJpbnQocmVzdWx0X2RhdGEpCiAgICByb3dzID0gW10KICAgIGZvciBkIGluIHJlc3VsdF9kYXRhOgogICAgICAgIGZvciBrZXksIHZhbHVlIGluIGQuaXRlbXMoKToKICAgICAgICAgICAgdmFsdWUgPSBmbG9hdCh2YWx1ZSkgaWYgaXNpbnN0YW5jZSh2YWx1ZSwgKGZsb2F0LCBpbnQpKSBlbHNlIHZhbHVlCiAgICAgICAgICAgIHJvd3MuYXBwZW5kKFJvdyhDb2x1bW5zPWtleSwgTnVsbF9wZXJjZW50YWdlPXZhbHVlKSkKCiAgICAjIERlZmluZSB0aGUgc2NoZW1hCiAgICBzY2hlbWEgPSBTdHJ1Y3RUeXBlKFsKICAgICAgICBTdHJ1Y3RGaWVsZCgiQ29sdW1ucyIsIFN0cmluZ1R5cGUoKSwgVHJ1ZSksCiAgICAgICAgU3RydWN0RmllbGQoIk51bGxfcGVyY2VudGFnZSIsIEZsb2F0VHlwZSgpLCBUcnVlKQogICAgXSkKCiAgICAjIENyZWF0ZSBEYXRhRnJhbWUgdXNpbmcgdGhlIHJvd3MgYW5kIHNjaGVtYQogICAgZGYgPSBzcGFyay5jcmVhdGVEYXRhRnJhbWUocm93cywgc2NoZW1hKQoKICAgICMgU2hvdyB0aGUgRGF0YUZyYW1lCiAgICBkZi5zaG93KHRydW5jYXRlPUZhbHNlKScnJwogICAgCgoKCgoKCiAgICBwcmludCgiLSIqMTAwKQo=\").decode())\n\ntry:\n    # run user code\n    __backend_agg_user_code_fn()\n\n    #reset display function\n    display = __backend_agg_display_orig\n\n    if len(__backend_agg_dfs) > 0:\n        # create a temp view\n        if type(__backend_agg_dfs[0]).__module__ == \"databricks.koalas.frame\":\n            # koalas dataframe\n            __backend_agg_dfs[0].to_spark().createOrReplaceTempView(\"DatabricksView6d5513b\")\n        elif type(__backend_agg_dfs[0]).__module__ == \"pandas.core.frame\" or isinstance(__backend_agg_dfs[0], list):\n            # pandas dataframe\n            spark.createDataFrame(__backend_agg_dfs[0]).createOrReplaceTempView(\"DatabricksView6d5513b\")\n        else:\n            __backend_agg_dfs[0].createOrReplaceTempView(\"DatabricksView6d5513b\")\n        #run backend agg\n        display(spark.sql(\"\"\"WITH q AS (select * from DatabricksView6d5513b) SELECT `Columns`,SUM(`Error_perc_for_null_check`) `column_f9efb6826` FROM q GROUP BY `Columns`\"\"\"))\n    else:\n        displayHTML(\"dataframe no longer exists. If you're using dataframe.display(), use display(dataframe) instead.\")\n\n\nfinally:\n    spark.sql(\"drop view if exists DatabricksView6d5513b\")\n    display = __backend_agg_display_orig\n    del __backend_agg_display_new\n    del __backend_agg_display_orig\n    del __backend_agg_dfs\n    del __backend_agg_user_code_fn\n\n",
       "commandTitle": "Visualization 1",
       "commandType": "auto",
       "commandVersion": 0,
       "commentThread": [],
       "commentsVisible": false,
       "contentSha256Hex": null,
       "customPlotOptions": {
        "redashChart": [
         {
          "key": "type",
          "value": "CHART"
         },
         {
          "key": "options",
          "value": {
           "alignYAxesAtZero": true,
           "coefficient": 1,
           "columnConfigurationMap": {
            "x": {
             "column": "Columns",
             "id": "column_f9efb6825"
            },
            "y": [
             {
              "column": "Error_perc_for_null_check",
              "id": "column_f9efb6826",
              "transform": "SUM"
             }
            ]
           },
           "dateTimeFormat": "DD/MM/YYYY HH:mm",
           "direction": {
            "type": "counterclockwise"
           },
           "error_y": {
            "type": "data",
            "visible": true
           },
           "globalSeriesType": "column",
           "isAggregationOn": true,
           "legend": {
            "traceorder": "normal"
           },
           "missingValuesAsZero": true,
           "numberFormat": "0,0.[00000]",
           "percentFormat": "0[.]00%",
           "series": {
            "error_y": {
             "type": "data",
             "visible": true
            },
            "stacking": null
           },
           "seriesOptions": {
            "column_f9efb6826": {
             "color": "#4DEEEA",
             "name": "Error_perc_for_null_check",
             "yAxis": 0
            }
           },
           "showDataLabels": false,
           "sizemode": "diameter",
           "sortX": true,
           "sortY": true,
           "swappedAxes": true,
           "textFormat": "",
           "useAggregationsUi": true,
           "valuesOptions": {},
           "version": 2,
           "xAxis": {
            "labels": {
             "enabled": true
            },
            "type": "-"
           },
           "yAxis": [
            {
             "type": "-"
            },
            {
             "opposite": true,
             "type": "-"
            }
           ]
          }
         }
        ]
       },
       "datasetPreviewNameToCmdIdMap": {},
       "diffDeletes": [],
       "diffInserts": [],
       "displayType": "redashChart",
       "error": null,
       "errorDetails": null,
       "errorSummary": null,
       "errorTraceType": null,
       "finishTime": 0,
       "globalVars": {},
       "guid": "",
       "height": "auto",
       "hideCommandCode": false,
       "hideCommandResult": false,
       "iPythonMetadata": null,
       "inputWidgets": {},
       "isLockedInExamMode": false,
       "latestUser": "a user",
       "latestUserId": null,
       "listResultMetadata": null,
       "metadata": {},
       "nuid": "0638d944-ab71-48b5-b370-ab8bed4b5bc5",
       "origId": 0,
       "parentHierarchy": [],
       "pivotAggregation": null,
       "pivotColumns": null,
       "position": 9.0,
       "resultDbfsErrorMessage": null,
       "resultDbfsStatus": "INLINED_IN_TREE",
       "results": null,
       "showCommandTitle": false,
       "startTime": 0,
       "state": "input",
       "streamStates": {},
       "subcommandOptions": {
        "queryPlan": {
         "groups": [
          {
           "column": "Columns",
           "type": "column"
          }
         ],
         "selects": [
          {
           "column": "Columns",
           "type": "column"
          },
          {
           "alias": "column_f9efb6826",
           "args": [
            {
             "column": "Error_perc_for_null_check",
             "type": "column"
            }
           ],
           "function": "SUM",
           "type": "function"
          }
         ]
        }
       },
       "submitTime": 0,
       "subtype": "tableResultSubCmd.visualization",
       "tableResultIndex": 0,
       "useConsistentColors": false,
       "version": "CommandV1",
       "width": "auto",
       "workflows": [],
       "xColumns": null,
       "yColumns": null
      }
     },
     "output_type": "display_data"
    },
    {
     "output_type": "display_data",
     "data": {
      "text/html": [
       "<style scoped>\n",
       "  .table-result-container {\n",
       "    max-height: 300px;\n",
       "    overflow: auto;\n",
       "  }\n",
       "  table, th, td {\n",
       "    border: 1px solid black;\n",
       "    border-collapse: collapse;\n",
       "  }\n",
       "  th, td {\n",
       "    padding: 5px;\n",
       "  }\n",
       "  th {\n",
       "    text-align: left;\n",
       "  }\n",
       "</style><div class='table-result-container'><table class='table-result'><thead style='background-color: white'><tr><th>Columns</th><th>Error_perc_for_range_check</th></tr></thead><tbody><tr><td>Year</td><td>1.1904762</td></tr></tbody></table></div>"
      ]
     },
     "metadata": {
      "application/vnd.databricks.v1+output": {
       "addedWidgets": {},
       "aggData": [],
       "aggError": "",
       "aggOverflow": false,
       "aggSchema": [],
       "aggSeriesLimitReached": false,
       "aggType": "",
       "arguments": {},
       "columnCustomDisplayInfos": {},
       "data": [
        [
         "Year",
         1.1904762
        ]
       ],
       "datasetInfos": [],
       "dbfsResultPath": null,
       "isJsonSchema": true,
       "metadata": {},
       "overflow": false,
       "plotOptions": {
        "customPlotOptions": {},
        "displayType": "table",
        "pivotAggregation": null,
        "pivotColumns": null,
        "xColumns": null,
        "yColumns": null
       },
       "removedWidgets": [],
       "schema": [
        {
         "metadata": "{}",
         "name": "Columns",
         "type": "\"string\""
        },
        {
         "metadata": "{}",
         "name": "Error_perc_for_range_check",
         "type": "\"float\""
        }
       ],
       "type": "table"
      }
     },
     "output_type": "display_data"
    },
    {
     "output_type": "display_data",
     "data": {
      "text/plain": [
       "Databricks visualization. Run in Databricks to view."
      ]
     },
     "metadata": {
      "application/vnd.databricks.v1.subcommand+json": {
       "baseErrorDetails": null,
       "bindings": {},
       "collapsed": false,
       "command": "%python\n__backend_agg_display_orig = display\n__backend_agg_dfs = []\ndef __backend_agg_display_new(df):\n    __backend_agg_df_modules = [\"pandas.core.frame\", \"databricks.koalas.frame\", \"pyspark.sql.dataframe\", \"pyspark.pandas.frame\", \"pyspark.sql.connect.dataframe\"]\n    if (type(df).__module__ in __backend_agg_df_modules and type(df).__name__ == 'DataFrame') or isinstance(df, list):\n        __backend_agg_dfs.append(df)\n\ndisplay = __backend_agg_display_new\n\ndef __backend_agg_user_code_fn():\n    import base64\n    exec(base64.standard_b64decode(\"CmlmIF9fbmFtZV9fID09ICdfX21haW5fXyc6CiAgICBmb3IgaSBpbiByYW5nZSg1KToKICAgICAgICBpZiBpID09IDI6CiAgICAgICAgICAgIGNvbnRpbnVlCiAgICAgICAgcnVuX3F1YWxpdHlfY2hlY2tzKGkpCgogICAgJycncmVzdWx0X2RhdGEgPSBydW5fcXVhbGl0eV9jaGVja3MoMSkKICAgIHByaW50KHJlc3VsdF9kYXRhKQogICAgcm93cyA9IFtdCiAgICBmb3IgZCBpbiByZXN1bHRfZGF0YToKICAgICAgICBmb3Iga2V5LCB2YWx1ZSBpbiBkLml0ZW1zKCk6CiAgICAgICAgICAgIHZhbHVlID0gZmxvYXQodmFsdWUpIGlmIGlzaW5zdGFuY2UodmFsdWUsIChmbG9hdCwgaW50KSkgZWxzZSB2YWx1ZQogICAgICAgICAgICByb3dzLmFwcGVuZChSb3coQ29sdW1ucz1rZXksIE51bGxfcGVyY2VudGFnZT12YWx1ZSkpCgogICAgIyBEZWZpbmUgdGhlIHNjaGVtYQogICAgc2NoZW1hID0gU3RydWN0VHlwZShbCiAgICAgICAgU3RydWN0RmllbGQoIkNvbHVtbnMiLCBTdHJpbmdUeXBlKCksIFRydWUpLAogICAgICAgIFN0cnVjdEZpZWxkKCJOdWxsX3BlcmNlbnRhZ2UiLCBGbG9hdFR5cGUoKSwgVHJ1ZSkKICAgIF0pCgogICAgIyBDcmVhdGUgRGF0YUZyYW1lIHVzaW5nIHRoZSByb3dzIGFuZCBzY2hlbWEKICAgIGRmID0gc3BhcmsuY3JlYXRlRGF0YUZyYW1lKHJvd3MsIHNjaGVtYSkKCiAgICAjIFNob3cgdGhlIERhdGFGcmFtZQogICAgZGYuc2hvdyh0cnVuY2F0ZT1GYWxzZSknJycKICAgIAoKCgoKCgogICAgcHJpbnQoIi0iKjEwMCkK\").decode())\n\ntry:\n    # run user code\n    __backend_agg_user_code_fn()\n\n    #reset display function\n    display = __backend_agg_display_orig\n\n    if len(__backend_agg_dfs) > 1:\n        # create a temp view\n        if type(__backend_agg_dfs[1]).__module__ == \"databricks.koalas.frame\":\n            # koalas dataframe\n            __backend_agg_dfs[1].to_spark().createOrReplaceTempView(\"DatabricksView274dca3\")\n        elif type(__backend_agg_dfs[1]).__module__ == \"pandas.core.frame\" or isinstance(__backend_agg_dfs[1], list):\n            # pandas dataframe\n            spark.createDataFrame(__backend_agg_dfs[1]).createOrReplaceTempView(\"DatabricksView274dca3\")\n        else:\n            __backend_agg_dfs[1].createOrReplaceTempView(\"DatabricksView274dca3\")\n        #run backend agg\n        display(spark.sql(\"\"\"WITH q AS (select * from DatabricksView274dca3) SELECT `Columns`,SUM(`Error_perc_for_range_check`) `column_ae1d198919` FROM q GROUP BY `Columns`\"\"\"))\n    else:\n        displayHTML(\"dataframe no longer exists. If you're using dataframe.display(), use display(dataframe) instead.\")\n\n\nfinally:\n    spark.sql(\"drop view if exists DatabricksView274dca3\")\n    display = __backend_agg_display_orig\n    del __backend_agg_display_new\n    del __backend_agg_display_orig\n    del __backend_agg_dfs\n    del __backend_agg_user_code_fn\n\n",
       "commandTitle": "Visualization 1",
       "commandType": "auto",
       "commandVersion": 0,
       "commentThread": [],
       "commentsVisible": false,
       "contentSha256Hex": null,
       "customPlotOptions": {
        "redashChart": [
         {
          "key": "type",
          "value": "CHART"
         },
         {
          "key": "options",
          "value": {
           "alignYAxesAtZero": true,
           "coefficient": 1,
           "columnConfigurationMap": {
            "x": {
             "column": "Columns",
             "id": "column_ae1d198918"
            },
            "y": [
             {
              "column": "Error_perc_for_range_check",
              "id": "column_ae1d198919",
              "transform": "SUM"
             }
            ]
           },
           "dateTimeFormat": "DD/MM/YYYY HH:mm",
           "direction": {
            "type": "counterclockwise"
           },
           "error_y": {
            "type": "data",
            "visible": true
           },
           "globalSeriesType": "column",
           "isAggregationOn": true,
           "legend": {
            "traceorder": "normal"
           },
           "missingValuesAsZero": true,
           "numberFormat": "0,0.[00000]",
           "percentFormat": "0[.]00%",
           "series": {
            "error_y": {
             "type": "data",
             "visible": true
            },
            "stacking": null
           },
           "seriesOptions": {
            "column_ae1d198919": {
             "color": "#D1FF05",
             "name": "Error_perc_for_range_check",
             "yAxis": 0
            }
           },
           "showDataLabels": false,
           "sizemode": "diameter",
           "sortX": true,
           "sortY": true,
           "swappedAxes": true,
           "textFormat": "",
           "useAggregationsUi": true,
           "valuesOptions": {},
           "version": 2,
           "xAxis": {
            "labels": {
             "enabled": true
            },
            "type": "-"
           },
           "yAxis": [
            {
             "type": "-"
            },
            {
             "opposite": true,
             "type": "-"
            }
           ]
          }
         }
        ]
       },
       "datasetPreviewNameToCmdIdMap": {},
       "diffDeletes": [],
       "diffInserts": [],
       "displayType": "redashChart",
       "error": null,
       "errorDetails": null,
       "errorSummary": null,
       "errorTraceType": null,
       "finishTime": 0,
       "globalVars": {},
       "guid": "",
       "height": "auto",
       "hideCommandCode": false,
       "hideCommandResult": false,
       "iPythonMetadata": null,
       "inputWidgets": {},
       "isLockedInExamMode": false,
       "latestUser": "a user",
       "latestUserId": null,
       "listResultMetadata": null,
       "metadata": {},
       "nuid": "fb474d2b-ccfb-484d-9cf7-726089125df2",
       "origId": 0,
       "parentHierarchy": [],
       "pivotAggregation": null,
       "pivotColumns": null,
       "position": 9.0,
       "resultDbfsErrorMessage": null,
       "resultDbfsStatus": "INLINED_IN_TREE",
       "results": null,
       "showCommandTitle": false,
       "startTime": 0,
       "state": "input",
       "streamStates": {},
       "subcommandOptions": {
        "queryPlan": {
         "groups": [
          {
           "column": "Columns",
           "type": "column"
          }
         ],
         "selects": [
          {
           "column": "Columns",
           "type": "column"
          },
          {
           "alias": "column_ae1d198919",
           "args": [
            {
             "column": "Error_perc_for_range_check",
             "type": "column"
            }
           ],
           "function": "SUM",
           "type": "function"
          }
         ]
        }
       },
       "submitTime": 0,
       "subtype": "tableResultSubCmd.visualization",
       "tableResultIndex": 1,
       "useConsistentColors": false,
       "version": "CommandV1",
       "width": "auto",
       "workflows": [],
       "xColumns": null,
       "yColumns": null
      }
     },
     "output_type": "display_data"
    },
    {
     "output_type": "display_data",
     "data": {
      "text/html": [
       "<style scoped>\n",
       "  .table-result-container {\n",
       "    max-height: 300px;\n",
       "    overflow: auto;\n",
       "  }\n",
       "  table, th, td {\n",
       "    border: 1px solid black;\n",
       "    border-collapse: collapse;\n",
       "  }\n",
       "  th, td {\n",
       "    padding: 5px;\n",
       "  }\n",
       "  th {\n",
       "    text-align: left;\n",
       "  }\n",
       "</style><div class='table-result-container'><table class='table-result'><thead style='background-color: white'><tr><th>Columns</th><th>Error_perc_for_format_check</th></tr></thead><tbody></tbody></table></div>"
      ]
     },
     "metadata": {
      "application/vnd.databricks.v1+output": {
       "addedWidgets": {},
       "aggData": [],
       "aggError": "",
       "aggOverflow": false,
       "aggSchema": [],
       "aggSeriesLimitReached": false,
       "aggType": "",
       "arguments": {},
       "columnCustomDisplayInfos": {},
       "data": [],
       "datasetInfos": [],
       "dbfsResultPath": null,
       "isJsonSchema": true,
       "metadata": {},
       "overflow": false,
       "plotOptions": {
        "customPlotOptions": {},
        "displayType": "table",
        "pivotAggregation": null,
        "pivotColumns": null,
        "xColumns": null,
        "yColumns": null
       },
       "removedWidgets": [],
       "schema": [
        {
         "metadata": "{}",
         "name": "Columns",
         "type": "\"string\""
        },
        {
         "metadata": "{}",
         "name": "Error_perc_for_format_check",
         "type": "\"float\""
        }
       ],
       "type": "table"
      }
     },
     "output_type": "display_data"
    },
    {
     "output_type": "display_data",
     "data": {
      "text/plain": [
       "Databricks visualization. Run in Databricks to view."
      ]
     },
     "metadata": {
      "application/vnd.databricks.v1.subcommand+json": {
       "baseErrorDetails": null,
       "bindings": {},
       "collapsed": false,
       "command": "%python\n__backend_agg_display_orig = display\n__backend_agg_dfs = []\ndef __backend_agg_display_new(df):\n    __backend_agg_df_modules = [\"pandas.core.frame\", \"databricks.koalas.frame\", \"pyspark.sql.dataframe\", \"pyspark.pandas.frame\", \"pyspark.sql.connect.dataframe\"]\n    if (type(df).__module__ in __backend_agg_df_modules and type(df).__name__ == 'DataFrame') or isinstance(df, list):\n        __backend_agg_dfs.append(df)\n\ndisplay = __backend_agg_display_new\n\ndef __backend_agg_user_code_fn():\n    import base64\n    exec(base64.standard_b64decode(\"CmlmIF9fbmFtZV9fID09ICdfX21haW5fXyc6CiAgICAjZm9yIGkgaW4gcmFuZ2UoNSk6CiAgICBydW5fcXVhbGl0eV9jaGVja3MoMSkKCiAgICAnJydyZXN1bHRfZGF0YSA9IHJ1bl9xdWFsaXR5X2NoZWNrcygxKQogICAgcHJpbnQocmVzdWx0X2RhdGEpCiAgICByb3dzID0gW10KICAgIGZvciBkIGluIHJlc3VsdF9kYXRhOgogICAgICAgIGZvciBrZXksIHZhbHVlIGluIGQuaXRlbXMoKToKICAgICAgICAgICAgdmFsdWUgPSBmbG9hdCh2YWx1ZSkgaWYgaXNpbnN0YW5jZSh2YWx1ZSwgKGZsb2F0LCBpbnQpKSBlbHNlIHZhbHVlCiAgICAgICAgICAgIHJvd3MuYXBwZW5kKFJvdyhDb2x1bW5zPWtleSwgTnVsbF9wZXJjZW50YWdlPXZhbHVlKSkKCiAgICAjIERlZmluZSB0aGUgc2NoZW1hCiAgICBzY2hlbWEgPSBTdHJ1Y3RUeXBlKFsKICAgICAgICBTdHJ1Y3RGaWVsZCgiQ29sdW1ucyIsIFN0cmluZ1R5cGUoKSwgVHJ1ZSksCiAgICAgICAgU3RydWN0RmllbGQoIk51bGxfcGVyY2VudGFnZSIsIEZsb2F0VHlwZSgpLCBUcnVlKQogICAgXSkKCiAgICAjIENyZWF0ZSBEYXRhRnJhbWUgdXNpbmcgdGhlIHJvd3MgYW5kIHNjaGVtYQogICAgZGYgPSBzcGFyay5jcmVhdGVEYXRhRnJhbWUocm93cywgc2NoZW1hKQoKICAgICMgU2hvdyB0aGUgRGF0YUZyYW1lCiAgICBkZi5zaG93KHRydW5jYXRlPUZhbHNlKScnJwogICAgCgoKCgoKCiAgICBwcmludCgiLSIqMTAwKQo=\").decode())\n\ntry:\n    # run user code\n    __backend_agg_user_code_fn()\n\n    #reset display function\n    display = __backend_agg_display_orig\n\n    if len(__backend_agg_dfs) > 2:\n        # create a temp view\n        if type(__backend_agg_dfs[2]).__module__ == \"databricks.koalas.frame\":\n            # koalas dataframe\n            __backend_agg_dfs[2].to_spark().createOrReplaceTempView(\"DatabricksView16ee1cc\")\n        elif type(__backend_agg_dfs[2]).__module__ == \"pandas.core.frame\" or isinstance(__backend_agg_dfs[2], list):\n            # pandas dataframe\n            spark.createDataFrame(__backend_agg_dfs[2]).createOrReplaceTempView(\"DatabricksView16ee1cc\")\n        else:\n            __backend_agg_dfs[2].createOrReplaceTempView(\"DatabricksView16ee1cc\")\n        #run backend agg\n        display(spark.sql(\"\"\"WITH q AS (select * from DatabricksView16ee1cc) SELECT `Columns`,SUM(`Error_perc_for_format_check`) `column_f9efb6829` FROM q GROUP BY `Columns`\"\"\"))\n    else:\n        displayHTML(\"dataframe no longer exists. If you're using dataframe.display(), use display(dataframe) instead.\")\n\n\nfinally:\n    spark.sql(\"drop view if exists DatabricksView16ee1cc\")\n    display = __backend_agg_display_orig\n    del __backend_agg_display_new\n    del __backend_agg_display_orig\n    del __backend_agg_dfs\n    del __backend_agg_user_code_fn\n\n",
       "commandTitle": "Visualization 1",
       "commandType": "auto",
       "commandVersion": 0,
       "commentThread": [],
       "commentsVisible": false,
       "contentSha256Hex": null,
       "customPlotOptions": {
        "redashChart": [
         {
          "key": "type",
          "value": "CHART"
         },
         {
          "key": "options",
          "value": {
           "alignYAxesAtZero": true,
           "coefficient": 1,
           "columnConfigurationMap": {
            "x": {
             "column": "Columns",
             "id": "column_f9efb6828"
            },
            "y": [
             {
              "column": "Error_perc_for_format_check",
              "id": "column_f9efb6829",
              "transform": "SUM"
             }
            ]
           },
           "dateTimeFormat": "DD/MM/YYYY HH:mm",
           "direction": {
            "type": "counterclockwise"
           },
           "error_y": {
            "type": "data",
            "visible": true
           },
           "globalSeriesType": "column",
           "isAggregationOn": true,
           "legend": {
            "traceorder": "normal"
           },
           "missingValuesAsZero": true,
           "numberFormat": "0,0.[00000]",
           "percentFormat": "0[.]00%",
           "series": {
            "error_y": {
             "type": "data",
             "visible": true
            },
            "stacking": null
           },
           "seriesOptions": {
            "column_f9efb6829": {
             "color": "#74EE15",
             "name": "Error_perc_for_format_check",
             "yAxis": 0
            }
           },
           "showDataLabels": false,
           "sizemode": "diameter",
           "sortX": true,
           "sortY": true,
           "swappedAxes": true,
           "textFormat": "",
           "useAggregationsUi": true,
           "valuesOptions": {},
           "version": 2,
           "xAxis": {
            "labels": {
             "enabled": true
            },
            "type": "-"
           },
           "yAxis": [
            {
             "type": "-"
            },
            {
             "opposite": true,
             "type": "-"
            }
           ]
          }
         }
        ]
       },
       "datasetPreviewNameToCmdIdMap": {},
       "diffDeletes": [],
       "diffInserts": [],
       "displayType": "redashChart",
       "error": null,
       "errorDetails": null,
       "errorSummary": null,
       "errorTraceType": null,
       "finishTime": 0,
       "globalVars": {},
       "guid": "",
       "height": "auto",
       "hideCommandCode": false,
       "hideCommandResult": false,
       "iPythonMetadata": null,
       "inputWidgets": {},
       "isLockedInExamMode": false,
       "latestUser": "a user",
       "latestUserId": null,
       "listResultMetadata": null,
       "metadata": {},
       "nuid": "8430fb94-97f9-4de1-a2c8-24fdae1e2525",
       "origId": 0,
       "parentHierarchy": [],
       "pivotAggregation": null,
       "pivotColumns": null,
       "position": 9.0,
       "resultDbfsErrorMessage": null,
       "resultDbfsStatus": "INLINED_IN_TREE",
       "results": null,
       "showCommandTitle": false,
       "startTime": 0,
       "state": "input",
       "streamStates": {},
       "subcommandOptions": {
        "queryPlan": {
         "groups": [
          {
           "column": "Columns",
           "type": "column"
          }
         ],
         "selects": [
          {
           "column": "Columns",
           "type": "column"
          },
          {
           "alias": "column_f9efb6829",
           "args": [
            {
             "column": "Error_perc_for_format_check",
             "type": "column"
            }
           ],
           "function": "SUM",
           "type": "function"
          }
         ]
        }
       },
       "submitTime": 0,
       "subtype": "tableResultSubCmd.visualization",
       "tableResultIndex": 2,
       "useConsistentColors": false,
       "version": "CommandV1",
       "width": "auto",
       "workflows": [],
       "xColumns": null,
       "yColumns": null
      }
     },
     "output_type": "display_data"
    },
    {
     "output_type": "display_data",
     "data": {
      "text/html": [
       "<style scoped>\n",
       "  .table-result-container {\n",
       "    max-height: 300px;\n",
       "    overflow: auto;\n",
       "  }\n",
       "  table, th, td {\n",
       "    border: 1px solid black;\n",
       "    border-collapse: collapse;\n",
       "  }\n",
       "  th, td {\n",
       "    padding: 5px;\n",
       "  }\n",
       "  th {\n",
       "    text-align: left;\n",
       "  }\n",
       "</style><div class='table-result-container'><table class='table-result'><thead style='background-color: white'><tr><th>Columns</th><th>Error_perc_for_value_check</th></tr></thead><tbody></tbody></table></div>"
      ]
     },
     "metadata": {
      "application/vnd.databricks.v1+output": {
       "addedWidgets": {},
       "aggData": [],
       "aggError": "",
       "aggOverflow": false,
       "aggSchema": [],
       "aggSeriesLimitReached": false,
       "aggType": "",
       "arguments": {},
       "columnCustomDisplayInfos": {},
       "data": [],
       "datasetInfos": [],
       "dbfsResultPath": null,
       "isJsonSchema": true,
       "metadata": {},
       "overflow": false,
       "plotOptions": {
        "customPlotOptions": {},
        "displayType": "table",
        "pivotAggregation": null,
        "pivotColumns": null,
        "xColumns": null,
        "yColumns": null
       },
       "removedWidgets": [],
       "schema": [
        {
         "metadata": "{}",
         "name": "Columns",
         "type": "\"string\""
        },
        {
         "metadata": "{}",
         "name": "Error_perc_for_value_check",
         "type": "\"float\""
        }
       ],
       "type": "table"
      }
     },
     "output_type": "display_data"
    },
    {
     "output_type": "display_data",
     "data": {
      "text/plain": [
       "Databricks visualization. Run in Databricks to view."
      ]
     },
     "metadata": {
      "application/vnd.databricks.v1.subcommand+json": {
       "baseErrorDetails": null,
       "bindings": {},
       "collapsed": false,
       "command": "%python\n__backend_agg_display_orig = display\n__backend_agg_dfs = []\ndef __backend_agg_display_new(df):\n    __backend_agg_df_modules = [\"pandas.core.frame\", \"databricks.koalas.frame\", \"pyspark.sql.dataframe\", \"pyspark.pandas.frame\", \"pyspark.sql.connect.dataframe\"]\n    if (type(df).__module__ in __backend_agg_df_modules and type(df).__name__ == 'DataFrame') or isinstance(df, list):\n        __backend_agg_dfs.append(df)\n\ndisplay = __backend_agg_display_new\n\ndef __backend_agg_user_code_fn():\n    import base64\n    exec(base64.standard_b64decode(\"CmlmIF9fbmFtZV9fID09ICdfX21haW5fXyc6CiAgICAjZm9yIGkgaW4gcmFuZ2UoNSk6CiAgICBydW5fcXVhbGl0eV9jaGVja3MoMSkKCiAgICAnJydyZXN1bHRfZGF0YSA9IHJ1bl9xdWFsaXR5X2NoZWNrcygxKQogICAgcHJpbnQocmVzdWx0X2RhdGEpCiAgICByb3dzID0gW10KICAgIGZvciBkIGluIHJlc3VsdF9kYXRhOgogICAgICAgIGZvciBrZXksIHZhbHVlIGluIGQuaXRlbXMoKToKICAgICAgICAgICAgdmFsdWUgPSBmbG9hdCh2YWx1ZSkgaWYgaXNpbnN0YW5jZSh2YWx1ZSwgKGZsb2F0LCBpbnQpKSBlbHNlIHZhbHVlCiAgICAgICAgICAgIHJvd3MuYXBwZW5kKFJvdyhDb2x1bW5zPWtleSwgTnVsbF9wZXJjZW50YWdlPXZhbHVlKSkKCiAgICAjIERlZmluZSB0aGUgc2NoZW1hCiAgICBzY2hlbWEgPSBTdHJ1Y3RUeXBlKFsKICAgICAgICBTdHJ1Y3RGaWVsZCgiQ29sdW1ucyIsIFN0cmluZ1R5cGUoKSwgVHJ1ZSksCiAgICAgICAgU3RydWN0RmllbGQoIk51bGxfcGVyY2VudGFnZSIsIEZsb2F0VHlwZSgpLCBUcnVlKQogICAgXSkKCiAgICAjIENyZWF0ZSBEYXRhRnJhbWUgdXNpbmcgdGhlIHJvd3MgYW5kIHNjaGVtYQogICAgZGYgPSBzcGFyay5jcmVhdGVEYXRhRnJhbWUocm93cywgc2NoZW1hKQoKICAgICMgU2hvdyB0aGUgRGF0YUZyYW1lCiAgICBkZi5zaG93KHRydW5jYXRlPUZhbHNlKScnJwogICAgCgoKCgoKCiAgICBwcmludCgiLSIqMTAwKQo=\").decode())\n\ntry:\n    # run user code\n    __backend_agg_user_code_fn()\n\n    #reset display function\n    display = __backend_agg_display_orig\n\n    if len(__backend_agg_dfs) > 3:\n        # create a temp view\n        if type(__backend_agg_dfs[3]).__module__ == \"databricks.koalas.frame\":\n            # koalas dataframe\n            __backend_agg_dfs[3].to_spark().createOrReplaceTempView(\"DatabricksView7f26201\")\n        elif type(__backend_agg_dfs[3]).__module__ == \"pandas.core.frame\" or isinstance(__backend_agg_dfs[3], list):\n            # pandas dataframe\n            spark.createDataFrame(__backend_agg_dfs[3]).createOrReplaceTempView(\"DatabricksView7f26201\")\n        else:\n            __backend_agg_dfs[3].createOrReplaceTempView(\"DatabricksView7f26201\")\n        #run backend agg\n        display(spark.sql(\"\"\"WITH q AS (select * from DatabricksView7f26201) SELECT `Columns`,SUM(`Error_perc_for_value_check`) `column_f9efb68212` FROM q GROUP BY `Columns`\"\"\"))\n    else:\n        displayHTML(\"dataframe no longer exists. If you're using dataframe.display(), use display(dataframe) instead.\")\n\n\nfinally:\n    spark.sql(\"drop view if exists DatabricksView7f26201\")\n    display = __backend_agg_display_orig\n    del __backend_agg_display_new\n    del __backend_agg_display_orig\n    del __backend_agg_dfs\n    del __backend_agg_user_code_fn\n\n",
       "commandTitle": "Visualization 1",
       "commandType": "auto",
       "commandVersion": 0,
       "commentThread": [],
       "commentsVisible": false,
       "contentSha256Hex": null,
       "customPlotOptions": {
        "redashChart": [
         {
          "key": "type",
          "value": "CHART"
         },
         {
          "key": "options",
          "value": {
           "alignYAxesAtZero": true,
           "coefficient": 1,
           "columnConfigurationMap": {
            "x": {
             "column": "Columns",
             "id": "column_f9efb68211"
            },
            "y": [
             {
              "column": "Error_perc_for_value_check",
              "id": "column_f9efb68212",
              "transform": "SUM"
             }
            ]
           },
           "dateTimeFormat": "DD/MM/YYYY HH:mm",
           "direction": {
            "type": "counterclockwise"
           },
           "error_y": {
            "type": "data",
            "visible": true
           },
           "globalSeriesType": "column",
           "isAggregationOn": true,
           "legend": {
            "traceorder": "normal"
           },
           "missingValuesAsZero": true,
           "numberFormat": "0,0.[00000]",
           "percentFormat": "0[.]00%",
           "series": {
            "error_y": {
             "type": "data",
             "visible": true
            },
            "stacking": null
           },
           "seriesOptions": {
            "column_f9efb68212": {
             "color": "#D1FF05",
             "name": "Error_perc_for_value_check",
             "yAxis": 0
            }
           },
           "showDataLabels": false,
           "sizemode": "diameter",
           "sortX": true,
           "sortY": true,
           "swappedAxes": true,
           "textFormat": "",
           "useAggregationsUi": true,
           "valuesOptions": {},
           "version": 2,
           "xAxis": {
            "labels": {
             "enabled": true
            },
            "type": "-"
           },
           "yAxis": [
            {
             "type": "-"
            },
            {
             "opposite": true,
             "type": "-"
            }
           ]
          }
         }
        ]
       },
       "datasetPreviewNameToCmdIdMap": {},
       "diffDeletes": [],
       "diffInserts": [],
       "displayType": "redashChart",
       "error": null,
       "errorDetails": null,
       "errorSummary": null,
       "errorTraceType": null,
       "finishTime": 0,
       "globalVars": {},
       "guid": "",
       "height": "auto",
       "hideCommandCode": false,
       "hideCommandResult": false,
       "iPythonMetadata": null,
       "inputWidgets": {},
       "isLockedInExamMode": false,
       "latestUser": "a user",
       "latestUserId": null,
       "listResultMetadata": null,
       "metadata": {},
       "nuid": "fd61a572-99ed-42e8-bd4e-fd16d4dc773a",
       "origId": 0,
       "parentHierarchy": [],
       "pivotAggregation": null,
       "pivotColumns": null,
       "position": 9.0,
       "resultDbfsErrorMessage": null,
       "resultDbfsStatus": "INLINED_IN_TREE",
       "results": null,
       "showCommandTitle": false,
       "startTime": 0,
       "state": "input",
       "streamStates": {},
       "subcommandOptions": {
        "queryPlan": {
         "groups": [
          {
           "column": "Columns",
           "type": "column"
          }
         ],
         "selects": [
          {
           "column": "Columns",
           "type": "column"
          },
          {
           "alias": "column_f9efb68212",
           "args": [
            {
             "column": "Error_perc_for_value_check",
             "type": "column"
            }
           ],
           "function": "SUM",
           "type": "function"
          }
         ]
        }
       },
       "submitTime": 0,
       "subtype": "tableResultSubCmd.visualization",
       "tableResultIndex": 3,
       "useConsistentColors": false,
       "version": "CommandV1",
       "width": "auto",
       "workflows": [],
       "xColumns": null,
       "yColumns": null
      }
     },
     "output_type": "display_data"
    },
    {
     "output_type": "stream",
     "name": "stderr",
     "output_type": "stream",
     "text": [
      "/root/.ipykernel/1583/command-3023537550241114-3570438882:14: DtypeWarning: Columns (29,30,32) have mixed types. Specify dtype option on import or set low_memory=False.\n  dataframe = pd.read_csv(dataset_profile['dataset'])\n"
     ]
    },
    {
     "output_type": "stream",
     "name": "stdout",
     "output_type": "stream",
     "text": [
      "MAC Address ^([0-9A-F]{4}:){3}[0-9A-F]{4}$\nTotal nulls:  258640\nTotal errors:  3.478409171217991\nTotal value errors:  1788\nTotal format errors:  37348\nTotal errors:  297776\n"
     ]
    },
    {
     "output_type": "display_data",
     "data": {
      "text/html": [
       "<style scoped>\n",
       "  .table-result-container {\n",
       "    max-height: 300px;\n",
       "    overflow: auto;\n",
       "  }\n",
       "  table, th, td {\n",
       "    border: 1px solid black;\n",
       "    border-collapse: collapse;\n",
       "  }\n",
       "  th, td {\n",
       "    padding: 5px;\n",
       "  }\n",
       "  th {\n",
       "    text-align: left;\n",
       "  }\n",
       "</style><div class='table-result-container'><table class='table-result'><thead style='background-color: white'><tr><th>Columns</th><th>Error_perc_for_null_check</th></tr></thead><tbody><tr><td>MAC Address</td><td>0.0</td></tr><tr><td>Driver Postal Code</td><td>0.09814624</td></tr><tr><td>User ID</td><td>0.0896773</td></tr><tr><td>County</td><td>0.9889968</td></tr><tr><td>Model Number</td><td>0.92221487</td></tr><tr><td>System S/N</td><td>0.92221487</td></tr></tbody></table></div>"
      ]
     },
     "metadata": {
      "application/vnd.databricks.v1+output": {
       "addedWidgets": {},
       "aggData": [],
       "aggError": "",
       "aggOverflow": false,
       "aggSchema": [],
       "aggSeriesLimitReached": false,
       "aggType": "",
       "arguments": {},
       "columnCustomDisplayInfos": {},
       "data": [
        [
         "MAC Address",
         0.0
        ],
        [
         "Driver Postal Code",
         0.09814624
        ],
        [
         "User ID",
         0.0896773
        ],
        [
         "County",
         0.9889968
        ],
        [
         "Model Number",
         0.92221487
        ],
        [
         "System S/N",
         0.92221487
        ]
       ],
       "datasetInfos": [],
       "dbfsResultPath": null,
       "isJsonSchema": true,
       "metadata": {},
       "overflow": false,
       "plotOptions": {
        "customPlotOptions": {},
        "displayType": "table",
        "pivotAggregation": null,
        "pivotColumns": null,
        "xColumns": null,
        "yColumns": null
       },
       "removedWidgets": [],
       "schema": [
        {
         "metadata": "{}",
         "name": "Columns",
         "type": "\"string\""
        },
        {
         "metadata": "{}",
         "name": "Error_perc_for_null_check",
         "type": "\"float\""
        }
       ],
       "type": "table"
      }
     },
     "output_type": "display_data"
    },
    {
     "output_type": "display_data",
     "data": {
      "text/plain": [
       "Databricks visualization. Run in Databricks to view."
      ]
     },
     "metadata": {
      "application/vnd.databricks.v1.subcommand+json": {
       "baseErrorDetails": null,
       "bindings": {},
       "collapsed": false,
       "command": "%python\n__backend_agg_display_orig = display\n__backend_agg_dfs = []\ndef __backend_agg_display_new(df):\n    __backend_agg_df_modules = [\"pandas.core.frame\", \"databricks.koalas.frame\", \"pyspark.sql.dataframe\", \"pyspark.pandas.frame\", \"pyspark.sql.connect.dataframe\"]\n    if (type(df).__module__ in __backend_agg_df_modules and type(df).__name__ == 'DataFrame') or isinstance(df, list):\n        __backend_agg_dfs.append(df)\n\ndisplay = __backend_agg_display_new\n\ndef __backend_agg_user_code_fn():\n    import base64\n    exec(base64.standard_b64decode(\"CmlmIF9fbmFtZV9fID09ICdfX21haW5fXyc6CiAgICBmb3IgaSBpbiByYW5nZSg1KToKICAgICAgICBpZiBpID09IDI6CiAgICAgICAgICAgIGNvbnRpbnVlCiAgICAgICAgcnVuX3F1YWxpdHlfY2hlY2tzKGkpCgoKICAgIHByaW50KCItIioxMDApCg==\").decode())\n\ntry:\n    # run user code\n    __backend_agg_user_code_fn()\n\n    #reset display function\n    display = __backend_agg_display_orig\n\n    if len(__backend_agg_dfs) > 4:\n        # create a temp view\n        if type(__backend_agg_dfs[4]).__module__ == \"databricks.koalas.frame\":\n            # koalas dataframe\n            __backend_agg_dfs[4].to_spark().createOrReplaceTempView(\"DatabricksViewc2bb03a\")\n        elif type(__backend_agg_dfs[4]).__module__ == \"pandas.core.frame\" or isinstance(__backend_agg_dfs[4], list):\n            # pandas dataframe\n            spark.createDataFrame(__backend_agg_dfs[4]).createOrReplaceTempView(\"DatabricksViewc2bb03a\")\n        else:\n            __backend_agg_dfs[4].createOrReplaceTempView(\"DatabricksViewc2bb03a\")\n        #run backend agg\n        display(spark.sql(\"\"\"WITH q AS (select * from DatabricksViewc2bb03a) SELECT `Columns`,SUM(`Error_perc_for_null_check`) `column_f14b442815` FROM q GROUP BY `Columns`\"\"\"))\n    else:\n        displayHTML(\"dataframe no longer exists. If you're using dataframe.display(), use display(dataframe) instead.\")\n\n\nfinally:\n    spark.sql(\"drop view if exists DatabricksViewc2bb03a\")\n    display = __backend_agg_display_orig\n    del __backend_agg_display_new\n    del __backend_agg_display_orig\n    del __backend_agg_dfs\n    del __backend_agg_user_code_fn\n\n",
       "commandTitle": "Visualization 1",
       "commandType": "auto",
       "commandVersion": 0,
       "commentThread": [],
       "commentsVisible": false,
       "contentSha256Hex": null,
       "customPlotOptions": {
        "redashChart": [
         {
          "key": "type",
          "value": "CHART"
         },
         {
          "key": "options",
          "value": {
           "alignYAxesAtZero": true,
           "coefficient": 1,
           "columnConfigurationMap": {
            "x": {
             "column": "Columns",
             "id": "column_f14b442814"
            },
            "y": [
             {
              "column": "Error_perc_for_null_check",
              "id": "column_f14b442815",
              "transform": "SUM"
             }
            ]
           },
           "dateTimeFormat": "DD/MM/YYYY HH:mm",
           "direction": {
            "type": "counterclockwise"
           },
           "error_y": {
            "type": "data",
            "visible": true
           },
           "globalSeriesType": "column",
           "isAggregationOn": true,
           "legend": {
            "traceorder": "normal"
           },
           "missingValuesAsZero": true,
           "numberFormat": "0,0.[00000]",
           "percentFormat": "0[.]00%",
           "series": {
            "error_y": {
             "type": "data",
             "visible": true
            },
            "stacking": null
           },
           "seriesOptions": {
            "column_f14b442815": {
             "color": "#D1FF05",
             "name": "Error_perc_for_null_check",
             "yAxis": 0
            }
           },
           "showDataLabels": false,
           "sizemode": "diameter",
           "sortX": true,
           "sortY": true,
           "swappedAxes": true,
           "textFormat": "",
           "useAggregationsUi": true,
           "valuesOptions": {},
           "version": 2,
           "xAxis": {
            "labels": {
             "enabled": true
            },
            "type": "-"
           },
           "yAxis": [
            {
             "type": "-"
            },
            {
             "opposite": true,
             "type": "-"
            }
           ]
          }
         }
        ]
       },
       "datasetPreviewNameToCmdIdMap": {},
       "diffDeletes": [],
       "diffInserts": [],
       "displayType": "redashChart",
       "error": null,
       "errorDetails": null,
       "errorSummary": null,
       "errorTraceType": null,
       "finishTime": 0,
       "globalVars": {},
       "guid": "",
       "height": "auto",
       "hideCommandCode": false,
       "hideCommandResult": false,
       "iPythonMetadata": null,
       "inputWidgets": {},
       "isLockedInExamMode": false,
       "latestUser": "a user",
       "latestUserId": null,
       "listResultMetadata": null,
       "metadata": {},
       "nuid": "120ae937-4207-4fe4-a2b0-709802ee6c3e",
       "origId": 0,
       "parentHierarchy": [],
       "pivotAggregation": null,
       "pivotColumns": null,
       "position": 9.0,
       "resultDbfsErrorMessage": null,
       "resultDbfsStatus": "INLINED_IN_TREE",
       "results": null,
       "showCommandTitle": false,
       "startTime": 0,
       "state": "input",
       "streamStates": {},
       "subcommandOptions": {
        "queryPlan": {
         "groups": [
          {
           "column": "Columns",
           "type": "column"
          }
         ],
         "selects": [
          {
           "column": "Columns",
           "type": "column"
          },
          {
           "alias": "column_f14b442815",
           "args": [
            {
             "column": "Error_perc_for_null_check",
             "type": "column"
            }
           ],
           "function": "SUM",
           "type": "function"
          }
         ]
        }
       },
       "submitTime": 0,
       "subtype": "tableResultSubCmd.visualization",
       "tableResultIndex": 4,
       "useConsistentColors": false,
       "version": "CommandV1",
       "width": "auto",
       "workflows": [],
       "xColumns": null,
       "yColumns": null
      }
     },
     "output_type": "display_data"
    },
    {
     "output_type": "display_data",
     "data": {
      "text/html": [
       "<style scoped>\n",
       "  .table-result-container {\n",
       "    max-height: 300px;\n",
       "    overflow: auto;\n",
       "  }\n",
       "  table, th, td {\n",
       "    border: 1px solid black;\n",
       "    border-collapse: collapse;\n",
       "  }\n",
       "  th, td {\n",
       "    padding: 5px;\n",
       "  }\n",
       "  th {\n",
       "    text-align: left;\n",
       "  }\n",
       "</style><div class='table-result-container'><table class='table-result'><thead style='background-color: white'><tr><th>Columns</th><th>Error_perc_for_range_check</th></tr></thead><tbody></tbody></table></div>"
      ]
     },
     "metadata": {
      "application/vnd.databricks.v1+output": {
       "addedWidgets": {},
       "aggData": [],
       "aggError": "",
       "aggOverflow": false,
       "aggSchema": [],
       "aggSeriesLimitReached": false,
       "aggType": "",
       "arguments": {},
       "columnCustomDisplayInfos": {},
       "data": [],
       "datasetInfos": [],
       "dbfsResultPath": null,
       "isJsonSchema": true,
       "metadata": {},
       "overflow": false,
       "plotOptions": {
        "customPlotOptions": {},
        "displayType": "table",
        "pivotAggregation": null,
        "pivotColumns": null,
        "xColumns": null,
        "yColumns": null
       },
       "removedWidgets": [],
       "schema": [
        {
         "metadata": "{}",
         "name": "Columns",
         "type": "\"string\""
        },
        {
         "metadata": "{}",
         "name": "Error_perc_for_range_check",
         "type": "\"float\""
        }
       ],
       "type": "table"
      }
     },
     "output_type": "display_data"
    },
    {
     "output_type": "display_data",
     "data": {
      "text/html": [
       "<style scoped>\n",
       "  .table-result-container {\n",
       "    max-height: 300px;\n",
       "    overflow: auto;\n",
       "  }\n",
       "  table, th, td {\n",
       "    border: 1px solid black;\n",
       "    border-collapse: collapse;\n",
       "  }\n",
       "  th, td {\n",
       "    padding: 5px;\n",
       "  }\n",
       "  th {\n",
       "    text-align: left;\n",
       "  }\n",
       "</style><div class='table-result-container'><table class='table-result'><thead style='background-color: white'><tr><th>Columns</th><th>Error_perc_for_format_check</th></tr></thead><tbody><tr><td>MAC Address</td><td>0.43627298</td></tr></tbody></table></div>"
      ]
     },
     "metadata": {
      "application/vnd.databricks.v1+output": {
       "addedWidgets": {},
       "aggData": [],
       "aggError": "",
       "aggOverflow": false,
       "aggSchema": [],
       "aggSeriesLimitReached": false,
       "aggType": "",
       "arguments": {},
       "columnCustomDisplayInfos": {},
       "data": [
        [
         "MAC Address",
         0.43627298
        ]
       ],
       "datasetInfos": [],
       "dbfsResultPath": null,
       "isJsonSchema": true,
       "metadata": {},
       "overflow": false,
       "plotOptions": {
        "customPlotOptions": {},
        "displayType": "table",
        "pivotAggregation": null,
        "pivotColumns": null,
        "xColumns": null,
        "yColumns": null
       },
       "removedWidgets": [],
       "schema": [
        {
         "metadata": "{}",
         "name": "Columns",
         "type": "\"string\""
        },
        {
         "metadata": "{}",
         "name": "Error_perc_for_format_check",
         "type": "\"float\""
        }
       ],
       "type": "table"
      }
     },
     "output_type": "display_data"
    },
    {
     "output_type": "display_data",
     "data": {
      "text/plain": [
       "Databricks visualization. Run in Databricks to view."
      ]
     },
     "metadata": {
      "application/vnd.databricks.v1.subcommand+json": {
       "baseErrorDetails": null,
       "bindings": {},
       "collapsed": false,
       "command": "%python\n__backend_agg_display_orig = display\n__backend_agg_dfs = []\ndef __backend_agg_display_new(df):\n    __backend_agg_df_modules = [\"pandas.core.frame\", \"databricks.koalas.frame\", \"pyspark.sql.dataframe\", \"pyspark.pandas.frame\", \"pyspark.sql.connect.dataframe\"]\n    if (type(df).__module__ in __backend_agg_df_modules and type(df).__name__ == 'DataFrame') or isinstance(df, list):\n        __backend_agg_dfs.append(df)\n\ndisplay = __backend_agg_display_new\n\ndef __backend_agg_user_code_fn():\n    import base64\n    exec(base64.standard_b64decode(\"CmlmIF9fbmFtZV9fID09ICdfX21haW5fXyc6CiAgICBmb3IgaSBpbiByYW5nZSg1KToKICAgICAgICBpZiBpID09IDI6CiAgICAgICAgICAgIGNvbnRpbnVlCiAgICAgICAgcnVuX3F1YWxpdHlfY2hlY2tzKGkpCgoKICAgIHByaW50KCItIioxMDApCg==\").decode())\n\ntry:\n    # run user code\n    __backend_agg_user_code_fn()\n\n    #reset display function\n    display = __backend_agg_display_orig\n\n    if len(__backend_agg_dfs) > 6:\n        # create a temp view\n        if type(__backend_agg_dfs[6]).__module__ == \"databricks.koalas.frame\":\n            # koalas dataframe\n            __backend_agg_dfs[6].to_spark().createOrReplaceTempView(\"DatabricksView0dc2c24\")\n        elif type(__backend_agg_dfs[6]).__module__ == \"pandas.core.frame\" or isinstance(__backend_agg_dfs[6], list):\n            # pandas dataframe\n            spark.createDataFrame(__backend_agg_dfs[6]).createOrReplaceTempView(\"DatabricksView0dc2c24\")\n        else:\n            __backend_agg_dfs[6].createOrReplaceTempView(\"DatabricksView0dc2c24\")\n        #run backend agg\n        display(spark.sql(\"\"\"WITH q AS (select * from DatabricksView0dc2c24) SELECT `Columns`,SUM(`Error_perc_for_format_check`) `column_f14b442818` FROM q GROUP BY `Columns`\"\"\"))\n    else:\n        displayHTML(\"dataframe no longer exists. If you're using dataframe.display(), use display(dataframe) instead.\")\n\n\nfinally:\n    spark.sql(\"drop view if exists DatabricksView0dc2c24\")\n    display = __backend_agg_display_orig\n    del __backend_agg_display_new\n    del __backend_agg_display_orig\n    del __backend_agg_dfs\n    del __backend_agg_user_code_fn\n\n",
       "commandTitle": "Visualization 1",
       "commandType": "auto",
       "commandVersion": 0,
       "commentThread": [],
       "commentsVisible": false,
       "contentSha256Hex": null,
       "customPlotOptions": {
        "redashChart": [
         {
          "key": "type",
          "value": "CHART"
         },
         {
          "key": "options",
          "value": {
           "alignYAxesAtZero": true,
           "coefficient": 1,
           "columnConfigurationMap": {
            "x": {
             "column": "Columns",
             "id": "column_f14b442817"
            },
            "y": [
             {
              "column": "Error_perc_for_format_check",
              "id": "column_f14b442818",
              "transform": "SUM"
             }
            ]
           },
           "dateTimeFormat": "DD/MM/YYYY HH:mm",
           "direction": {
            "type": "counterclockwise"
           },
           "error_y": {
            "type": "data",
            "visible": true
           },
           "globalSeriesType": "column",
           "isAggregationOn": true,
           "legend": {
            "traceorder": "normal"
           },
           "missingValuesAsZero": true,
           "numberFormat": "0,0.[00000]",
           "percentFormat": "0[.]00%",
           "series": {
            "error_y": {
             "type": "data",
             "visible": true
            },
            "stacking": null
           },
           "seriesOptions": {
            "column_f14b442818": {
             "color": "#74EE15",
             "name": "Error_perc_for_format_check",
             "yAxis": 0
            }
           },
           "showDataLabels": false,
           "sizemode": "diameter",
           "sortX": true,
           "sortY": true,
           "swappedAxes": true,
           "textFormat": "",
           "useAggregationsUi": true,
           "valuesOptions": {},
           "version": 2,
           "xAxis": {
            "labels": {
             "enabled": true
            },
            "type": "-"
           },
           "yAxis": [
            {
             "type": "-"
            },
            {
             "opposite": true,
             "type": "-"
            }
           ]
          }
         }
        ]
       },
       "datasetPreviewNameToCmdIdMap": {},
       "diffDeletes": [],
       "diffInserts": [],
       "displayType": "redashChart",
       "error": null,
       "errorDetails": null,
       "errorSummary": null,
       "errorTraceType": null,
       "finishTime": 0,
       "globalVars": {},
       "guid": "",
       "height": "auto",
       "hideCommandCode": false,
       "hideCommandResult": false,
       "iPythonMetadata": null,
       "inputWidgets": {},
       "isLockedInExamMode": false,
       "latestUser": "a user",
       "latestUserId": null,
       "listResultMetadata": null,
       "metadata": {},
       "nuid": "642bcdf4-94ce-40b9-ae91-3cc84e72d77e",
       "origId": 0,
       "parentHierarchy": [],
       "pivotAggregation": null,
       "pivotColumns": null,
       "position": 9.0,
       "resultDbfsErrorMessage": null,
       "resultDbfsStatus": "INLINED_IN_TREE",
       "results": null,
       "showCommandTitle": false,
       "startTime": 0,
       "state": "input",
       "streamStates": {},
       "subcommandOptions": {
        "queryPlan": {
         "groups": [
          {
           "column": "Columns",
           "type": "column"
          }
         ],
         "selects": [
          {
           "column": "Columns",
           "type": "column"
          },
          {
           "alias": "column_f14b442818",
           "args": [
            {
             "column": "Error_perc_for_format_check",
             "type": "column"
            }
           ],
           "function": "SUM",
           "type": "function"
          }
         ]
        }
       },
       "submitTime": 0,
       "subtype": "tableResultSubCmd.visualization",
       "tableResultIndex": 6,
       "useConsistentColors": false,
       "version": "CommandV1",
       "width": "auto",
       "workflows": [],
       "xColumns": null,
       "yColumns": null
      }
     },
     "output_type": "display_data"
    },
    {
     "output_type": "display_data",
     "data": {
      "text/html": [
       "<style scoped>\n",
       "  .table-result-container {\n",
       "    max-height: 300px;\n",
       "    overflow: auto;\n",
       "  }\n",
       "  table, th, td {\n",
       "    border: 1px solid black;\n",
       "    border-collapse: collapse;\n",
       "  }\n",
       "  th, td {\n",
       "    padding: 5px;\n",
       "  }\n",
       "  th {\n",
       "    text-align: left;\n",
       "  }\n",
       "</style><div class='table-result-container'><table class='table-result'><thead style='background-color: white'><tr><th>Columns</th><th>Error_perc_for_value_check</th></tr></thead><tbody><tr><td>Start Time Zone</td><td>0.0</td></tr><tr><td>End Time Zone</td><td>0.0</td></tr><tr><td>Postal Code</td><td>0.0</td></tr><tr><td>Currency</td><td>0.020886155</td></tr><tr><td>Org Name</td><td>0.0</td></tr></tbody></table></div>"
      ]
     },
     "metadata": {
      "application/vnd.databricks.v1+output": {
       "addedWidgets": {},
       "aggData": [],
       "aggError": "",
       "aggOverflow": false,
       "aggSchema": [],
       "aggSeriesLimitReached": false,
       "aggType": "",
       "arguments": {},
       "columnCustomDisplayInfos": {},
       "data": [
        [
         "Start Time Zone",
         0.0
        ],
        [
         "End Time Zone",
         0.0
        ],
        [
         "Postal Code",
         0.0
        ],
        [
         "Currency",
         0.020886155
        ],
        [
         "Org Name",
         0.0
        ]
       ],
       "datasetInfos": [],
       "dbfsResultPath": null,
       "isJsonSchema": true,
       "metadata": {},
       "overflow": false,
       "plotOptions": {
        "customPlotOptions": {},
        "displayType": "table",
        "pivotAggregation": null,
        "pivotColumns": null,
        "xColumns": null,
        "yColumns": null
       },
       "removedWidgets": [],
       "schema": [
        {
         "metadata": "{}",
         "name": "Columns",
         "type": "\"string\""
        },
        {
         "metadata": "{}",
         "name": "Error_perc_for_value_check",
         "type": "\"float\""
        }
       ],
       "type": "table"
      }
     },
     "output_type": "display_data"
    },
    {
     "output_type": "display_data",
     "data": {
      "text/plain": [
       "Databricks visualization. Run in Databricks to view."
      ]
     },
     "metadata": {
      "application/vnd.databricks.v1.subcommand+json": {
       "baseErrorDetails": null,
       "bindings": {},
       "collapsed": false,
       "command": "%python\n__backend_agg_display_orig = display\n__backend_agg_dfs = []\ndef __backend_agg_display_new(df):\n    __backend_agg_df_modules = [\"pandas.core.frame\", \"databricks.koalas.frame\", \"pyspark.sql.dataframe\", \"pyspark.pandas.frame\", \"pyspark.sql.connect.dataframe\"]\n    if (type(df).__module__ in __backend_agg_df_modules and type(df).__name__ == 'DataFrame') or isinstance(df, list):\n        __backend_agg_dfs.append(df)\n\ndisplay = __backend_agg_display_new\n\ndef __backend_agg_user_code_fn():\n    import base64\n    exec(base64.standard_b64decode(\"CmlmIF9fbmFtZV9fID09ICdfX21haW5fXyc6CiAgICBmb3IgaSBpbiByYW5nZSg1KToKICAgICAgICBpZiBpID09IDI6CiAgICAgICAgICAgIGNvbnRpbnVlCiAgICAgICAgcnVuX3F1YWxpdHlfY2hlY2tzKGkpCgoKICAgIHByaW50KCItIioxMDApCg==\").decode())\n\ntry:\n    # run user code\n    __backend_agg_user_code_fn()\n\n    #reset display function\n    display = __backend_agg_display_orig\n\n    if len(__backend_agg_dfs) > 7:\n        # create a temp view\n        if type(__backend_agg_dfs[7]).__module__ == \"databricks.koalas.frame\":\n            # koalas dataframe\n            __backend_agg_dfs[7].to_spark().createOrReplaceTempView(\"DatabricksView9cd9708\")\n        elif type(__backend_agg_dfs[7]).__module__ == \"pandas.core.frame\" or isinstance(__backend_agg_dfs[7], list):\n            # pandas dataframe\n            spark.createDataFrame(__backend_agg_dfs[7]).createOrReplaceTempView(\"DatabricksView9cd9708\")\n        else:\n            __backend_agg_dfs[7].createOrReplaceTempView(\"DatabricksView9cd9708\")\n        #run backend agg\n        display(spark.sql(\"\"\"WITH q AS (select * from DatabricksView9cd9708) SELECT `Columns`,SUM(`Error_perc_for_value_check`) `column_f14b442821` FROM q GROUP BY `Columns`\"\"\"))\n    else:\n        displayHTML(\"dataframe no longer exists. If you're using dataframe.display(), use display(dataframe) instead.\")\n\n\nfinally:\n    spark.sql(\"drop view if exists DatabricksView9cd9708\")\n    display = __backend_agg_display_orig\n    del __backend_agg_display_new\n    del __backend_agg_display_orig\n    del __backend_agg_dfs\n    del __backend_agg_user_code_fn\n\n",
       "commandTitle": "Visualization 1",
       "commandType": "auto",
       "commandVersion": 0,
       "commentThread": [],
       "commentsVisible": false,
       "contentSha256Hex": null,
       "customPlotOptions": {
        "redashChart": [
         {
          "key": "type",
          "value": "CHART"
         },
         {
          "key": "options",
          "value": {
           "alignYAxesAtZero": true,
           "coefficient": 1,
           "columnConfigurationMap": {
            "x": {
             "column": "Columns",
             "id": "column_f14b442820"
            },
            "y": [
             {
              "column": "Error_perc_for_value_check",
              "id": "column_f14b442821",
              "transform": "SUM"
             }
            ]
           },
           "dateTimeFormat": "DD/MM/YYYY HH:mm",
           "direction": {
            "type": "counterclockwise"
           },
           "error_y": {
            "type": "data",
            "visible": true
           },
           "globalSeriesType": "column",
           "isAggregationOn": true,
           "legend": {
            "traceorder": "normal"
           },
           "missingValuesAsZero": true,
           "numberFormat": "0,0.[00000]",
           "percentFormat": "0[.]00%",
           "series": {
            "error_y": {
             "type": "data",
             "visible": true
            },
            "stacking": null
           },
           "seriesOptions": {
            "column_f14b442821": {
             "color": "#4DEEEA",
             "name": "Error_perc_for_value_check",
             "yAxis": 0
            }
           },
           "showDataLabels": false,
           "sizemode": "diameter",
           "sortX": true,
           "sortY": true,
           "swappedAxes": true,
           "textFormat": "",
           "useAggregationsUi": true,
           "valuesOptions": {},
           "version": 2,
           "xAxis": {
            "labels": {
             "enabled": true
            },
            "type": "-"
           },
           "yAxis": [
            {
             "type": "-"
            },
            {
             "opposite": true,
             "type": "-"
            }
           ]
          }
         }
        ]
       },
       "datasetPreviewNameToCmdIdMap": {},
       "diffDeletes": [],
       "diffInserts": [],
       "displayType": "redashChart",
       "error": null,
       "errorDetails": null,
       "errorSummary": null,
       "errorTraceType": null,
       "finishTime": 0,
       "globalVars": {},
       "guid": "",
       "height": "auto",
       "hideCommandCode": false,
       "hideCommandResult": false,
       "iPythonMetadata": null,
       "inputWidgets": {},
       "isLockedInExamMode": false,
       "latestUser": "a user",
       "latestUserId": null,
       "listResultMetadata": null,
       "metadata": {},
       "nuid": "4061b999-4451-4b34-a82d-e1549aaab223",
       "origId": 0,
       "parentHierarchy": [],
       "pivotAggregation": null,
       "pivotColumns": null,
       "position": 9.0,
       "resultDbfsErrorMessage": null,
       "resultDbfsStatus": "INLINED_IN_TREE",
       "results": null,
       "showCommandTitle": false,
       "startTime": 0,
       "state": "input",
       "streamStates": {},
       "subcommandOptions": {
        "queryPlan": {
         "groups": [
          {
           "column": "Columns",
           "type": "column"
          }
         ],
         "selects": [
          {
           "column": "Columns",
           "type": "column"
          },
          {
           "alias": "column_f14b442821",
           "args": [
            {
             "column": "Error_perc_for_value_check",
             "type": "column"
            }
           ],
           "function": "SUM",
           "type": "function"
          }
         ]
        }
       },
       "submitTime": 0,
       "subtype": "tableResultSubCmd.visualization",
       "tableResultIndex": 7,
       "useConsistentColors": false,
       "version": "CommandV1",
       "width": "auto",
       "workflows": [],
       "xColumns": null,
       "yColumns": null
      }
     },
     "output_type": "display_data"
    },
    {
     "output_type": "stream",
     "name": "stdout",
     "output_type": "stream",
     "text": [
      "Total errors:  7.133069725560818\nTotal errors:  5466\n"
     ]
    },
    {
     "output_type": "display_data",
     "data": {
      "text/html": [
       "<style scoped>\n",
       "  .table-result-container {\n",
       "    max-height: 300px;\n",
       "    overflow: auto;\n",
       "  }\n",
       "  table, th, td {\n",
       "    border: 1px solid black;\n",
       "    border-collapse: collapse;\n",
       "  }\n",
       "  th, td {\n",
       "    padding: 5px;\n",
       "  }\n",
       "  th {\n",
       "    text-align: left;\n",
       "  }\n",
       "</style><div class='table-result-container'><table class='table-result'><thead style='background-color: white'><tr><th>Columns</th><th>Error_perc_for_null_check</th></tr></thead><tbody><tr><td>Year</td><td>0.0</td></tr><tr><td>Renewable energy share in the total final energy consumption (%)</td><td>0.25316787</td></tr><tr><td>Electricity from renewables (TWh)</td><td>0.027404768</td></tr><tr><td>Renewables (% equivalent primary energy)</td><td>2.7887614</td></tr><tr><td>Financial flows to developing countries (US $)</td><td>2.726122</td></tr><tr><td>Renewable-electricity-generating-capacity-per-capita</td><td>1.2149447</td></tr><tr><td>Access to electricity (% of population)</td><td>0.013049889</td></tr></tbody></table></div>"
      ]
     },
     "metadata": {
      "application/vnd.databricks.v1+output": {
       "addedWidgets": {},
       "aggData": [],
       "aggError": "",
       "aggOverflow": false,
       "aggSchema": [],
       "aggSeriesLimitReached": false,
       "aggType": "",
       "arguments": {},
       "columnCustomDisplayInfos": {},
       "data": [
        [
         "Year",
         0.0
        ],
        [
         "Renewable energy share in the total final energy consumption (%)",
         0.25316787
        ],
        [
         "Electricity from renewables (TWh)",
         0.027404768
        ],
        [
         "Renewables (% equivalent primary energy)",
         2.7887614
        ],
        [
         "Financial flows to developing countries (US $)",
         2.726122
        ],
        [
         "Renewable-electricity-generating-capacity-per-capita",
         1.2149447
        ],
        [
         "Access to electricity (% of population)",
         0.013049889
        ]
       ],
       "datasetInfos": [],
       "dbfsResultPath": null,
       "isJsonSchema": true,
       "metadata": {},
       "overflow": false,
       "plotOptions": {
        "customPlotOptions": {},
        "displayType": "table",
        "pivotAggregation": null,
        "pivotColumns": null,
        "xColumns": null,
        "yColumns": null
       },
       "removedWidgets": [],
       "schema": [
        {
         "metadata": "{}",
         "name": "Columns",
         "type": "\"string\""
        },
        {
         "metadata": "{}",
         "name": "Error_perc_for_null_check",
         "type": "\"float\""
        }
       ],
       "type": "table"
      }
     },
     "output_type": "display_data"
    },
    {
     "output_type": "display_data",
     "data": {
      "text/plain": [
       "Databricks visualization. Run in Databricks to view."
      ]
     },
     "metadata": {
      "application/vnd.databricks.v1.subcommand+json": {
       "baseErrorDetails": null,
       "bindings": {},
       "collapsed": false,
       "command": "%python\n__backend_agg_display_orig = display\n__backend_agg_dfs = []\ndef __backend_agg_display_new(df):\n    __backend_agg_df_modules = [\"pandas.core.frame\", \"databricks.koalas.frame\", \"pyspark.sql.dataframe\", \"pyspark.pandas.frame\", \"pyspark.sql.connect.dataframe\"]\n    if (type(df).__module__ in __backend_agg_df_modules and type(df).__name__ == 'DataFrame') or isinstance(df, list):\n        __backend_agg_dfs.append(df)\n\ndisplay = __backend_agg_display_new\n\ndef __backend_agg_user_code_fn():\n    import base64\n    exec(base64.standard_b64decode(\"CmlmIF9fbmFtZV9fID09ICdfX21haW5fXyc6CiAgICBmb3IgaSBpbiByYW5nZSg1KToKICAgICAgICBpZiBpID09IDI6CiAgICAgICAgICAgIGNvbnRpbnVlCiAgICAgICAgcnVuX3F1YWxpdHlfY2hlY2tzKGkpCgoKICAgIHByaW50KCItIioxMDApCg==\").decode())\n\ntry:\n    # run user code\n    __backend_agg_user_code_fn()\n\n    #reset display function\n    display = __backend_agg_display_orig\n\n    if len(__backend_agg_dfs) > 8:\n        # create a temp view\n        if type(__backend_agg_dfs[8]).__module__ == \"databricks.koalas.frame\":\n            # koalas dataframe\n            __backend_agg_dfs[8].to_spark().createOrReplaceTempView(\"DatabricksView82cd552\")\n        elif type(__backend_agg_dfs[8]).__module__ == \"pandas.core.frame\" or isinstance(__backend_agg_dfs[8], list):\n            # pandas dataframe\n            spark.createDataFrame(__backend_agg_dfs[8]).createOrReplaceTempView(\"DatabricksView82cd552\")\n        else:\n            __backend_agg_dfs[8].createOrReplaceTempView(\"DatabricksView82cd552\")\n        #run backend agg\n        display(spark.sql(\"\"\"WITH q AS (select * from DatabricksView82cd552) SELECT `Columns`,SUM(`Error_perc_for_null_check`) `column_f14b442824` FROM q GROUP BY `Columns`\"\"\"))\n    else:\n        displayHTML(\"dataframe no longer exists. If you're using dataframe.display(), use display(dataframe) instead.\")\n\n\nfinally:\n    spark.sql(\"drop view if exists DatabricksView82cd552\")\n    display = __backend_agg_display_orig\n    del __backend_agg_display_new\n    del __backend_agg_display_orig\n    del __backend_agg_dfs\n    del __backend_agg_user_code_fn\n\n",
       "commandTitle": "Visualization 1",
       "commandType": "auto",
       "commandVersion": 0,
       "commentThread": [],
       "commentsVisible": false,
       "contentSha256Hex": null,
       "customPlotOptions": {
        "redashChart": [
         {
          "key": "type",
          "value": "CHART"
         },
         {
          "key": "options",
          "value": {
           "alignYAxesAtZero": true,
           "coefficient": 1,
           "columnConfigurationMap": {
            "x": {
             "column": "Columns",
             "id": "column_f14b442823"
            },
            "y": [
             {
              "column": "Error_perc_for_null_check",
              "id": "column_f14b442824",
              "transform": "SUM"
             }
            ]
           },
           "dateTimeFormat": "DD/MM/YYYY HH:mm",
           "direction": {
            "type": "counterclockwise"
           },
           "error_y": {
            "type": "data",
            "visible": true
           },
           "globalSeriesType": "column",
           "isAggregationOn": true,
           "legend": {
            "traceorder": "normal"
           },
           "missingValuesAsZero": true,
           "numberFormat": "0,0.[00000]",
           "percentFormat": "0[.]00%",
           "series": {
            "error_y": {
             "type": "data",
             "visible": true
            },
            "stacking": null
           },
           "seriesOptions": {
            "column_f14b442824": {
             "color": "#00FF00",
             "name": "Error_perc_for_null_check",
             "yAxis": 0
            }
           },
           "showDataLabels": false,
           "sizemode": "diameter",
           "sortX": true,
           "sortY": true,
           "swappedAxes": true,
           "textFormat": "",
           "useAggregationsUi": true,
           "valuesOptions": {},
           "version": 2,
           "xAxis": {
            "labels": {
             "enabled": true
            },
            "type": "-"
           },
           "yAxis": [
            {
             "type": "-"
            },
            {
             "opposite": true,
             "type": "-"
            }
           ]
          }
         }
        ]
       },
       "datasetPreviewNameToCmdIdMap": {},
       "diffDeletes": [],
       "diffInserts": [],
       "displayType": "redashChart",
       "error": null,
       "errorDetails": null,
       "errorSummary": null,
       "errorTraceType": null,
       "finishTime": 0,
       "globalVars": {},
       "guid": "",
       "height": "auto",
       "hideCommandCode": false,
       "hideCommandResult": false,
       "iPythonMetadata": null,
       "inputWidgets": {},
       "isLockedInExamMode": false,
       "latestUser": "a user",
       "latestUserId": null,
       "listResultMetadata": null,
       "metadata": {},
       "nuid": "5fb9f6d3-7e86-42c4-914d-9d88eb17c40c",
       "origId": 0,
       "parentHierarchy": [],
       "pivotAggregation": null,
       "pivotColumns": null,
       "position": 9.0,
       "resultDbfsErrorMessage": null,
       "resultDbfsStatus": "INLINED_IN_TREE",
       "results": null,
       "showCommandTitle": false,
       "startTime": 0,
       "state": "input",
       "streamStates": {},
       "subcommandOptions": {
        "queryPlan": {
         "groups": [
          {
           "column": "Columns",
           "type": "column"
          }
         ],
         "selects": [
          {
           "column": "Columns",
           "type": "column"
          },
          {
           "alias": "column_f14b442824",
           "args": [
            {
             "column": "Error_perc_for_null_check",
             "type": "column"
            }
           ],
           "function": "SUM",
           "type": "function"
          }
         ]
        }
       },
       "submitTime": 0,
       "subtype": "tableResultSubCmd.visualization",
       "tableResultIndex": 8,
       "useConsistentColors": false,
       "version": "CommandV1",
       "width": "auto",
       "workflows": [],
       "xColumns": null,
       "yColumns": null
      }
     },
     "output_type": "display_data"
    },
    {
     "output_type": "display_data",
     "data": {
      "text/html": [
       "<style scoped>\n",
       "  .table-result-container {\n",
       "    max-height: 300px;\n",
       "    overflow: auto;\n",
       "  }\n",
       "  table, th, td {\n",
       "    border: 1px solid black;\n",
       "    border-collapse: collapse;\n",
       "  }\n",
       "  th, td {\n",
       "    padding: 5px;\n",
       "  }\n",
       "  th {\n",
       "    text-align: left;\n",
       "  }\n",
       "</style><div class='table-result-container'><table class='table-result'><thead style='background-color: white'><tr><th>Columns</th><th>Error_perc_for_range_check</th></tr></thead><tbody><tr><td>Year</td><td>0.013049889</td></tr><tr><td>Renewable energy share in the total final energy consumption (%)</td><td>0.25577784</td></tr><tr><td>Electricity from renewables (TWh)</td><td>1.5046523</td></tr><tr><td>Renewables (% equivalent primary energy)</td><td>2.830521</td></tr><tr><td>Financial flows to developing countries (US $)</td><td>3.2533376</td></tr><tr><td>Renewable-electricity-generating-capacity-per-capita</td><td>2.5603883</td></tr><tr><td>Access to electricity (% of population)</td><td>4.7345</td></tr></tbody></table></div>"
      ]
     },
     "metadata": {
      "application/vnd.databricks.v1+output": {
       "addedWidgets": {},
       "aggData": [],
       "aggError": "",
       "aggOverflow": false,
       "aggSchema": [],
       "aggSeriesLimitReached": false,
       "aggType": "",
       "arguments": {},
       "columnCustomDisplayInfos": {},
       "data": [
        [
         "Year",
         0.013049889
        ],
        [
         "Renewable energy share in the total final energy consumption (%)",
         0.25577784
        ],
        [
         "Electricity from renewables (TWh)",
         1.5046523
        ],
        [
         "Renewables (% equivalent primary energy)",
         2.830521
        ],
        [
         "Financial flows to developing countries (US $)",
         3.2533376
        ],
        [
         "Renewable-electricity-generating-capacity-per-capita",
         2.5603883
        ],
        [
         "Access to electricity (% of population)",
         4.7345
        ]
       ],
       "datasetInfos": [],
       "dbfsResultPath": null,
       "isJsonSchema": true,
       "metadata": {},
       "overflow": false,
       "plotOptions": {
        "customPlotOptions": {},
        "displayType": "table",
        "pivotAggregation": null,
        "pivotColumns": null,
        "xColumns": null,
        "yColumns": null
       },
       "removedWidgets": [],
       "schema": [
        {
         "metadata": "{}",
         "name": "Columns",
         "type": "\"string\""
        },
        {
         "metadata": "{}",
         "name": "Error_perc_for_range_check",
         "type": "\"float\""
        }
       ],
       "type": "table"
      }
     },
     "output_type": "display_data"
    },
    {
     "output_type": "display_data",
     "data": {
      "text/plain": [
       "Databricks visualization. Run in Databricks to view."
      ]
     },
     "metadata": {
      "application/vnd.databricks.v1.subcommand+json": {
       "baseErrorDetails": null,
       "bindings": {},
       "collapsed": false,
       "command": "%python\n__backend_agg_display_orig = display\n__backend_agg_dfs = []\ndef __backend_agg_display_new(df):\n    __backend_agg_df_modules = [\"pandas.core.frame\", \"databricks.koalas.frame\", \"pyspark.sql.dataframe\", \"pyspark.pandas.frame\", \"pyspark.sql.connect.dataframe\"]\n    if (type(df).__module__ in __backend_agg_df_modules and type(df).__name__ == 'DataFrame') or isinstance(df, list):\n        __backend_agg_dfs.append(df)\n\ndisplay = __backend_agg_display_new\n\ndef __backend_agg_user_code_fn():\n    import base64\n    exec(base64.standard_b64decode(\"CmlmIF9fbmFtZV9fID09ICdfX21haW5fXyc6CiAgICBmb3IgaSBpbiByYW5nZSg1KToKICAgICAgICBpZiBpID09IDI6CiAgICAgICAgICAgIGNvbnRpbnVlCiAgICAgICAgcnVuX3F1YWxpdHlfY2hlY2tzKGkpCgoKICAgIHByaW50KCItIioxMDApCg==\").decode())\n\ntry:\n    # run user code\n    __backend_agg_user_code_fn()\n\n    #reset display function\n    display = __backend_agg_display_orig\n\n    if len(__backend_agg_dfs) > 9:\n        # create a temp view\n        if type(__backend_agg_dfs[9]).__module__ == \"databricks.koalas.frame\":\n            # koalas dataframe\n            __backend_agg_dfs[9].to_spark().createOrReplaceTempView(\"DatabricksView4cea0f6\")\n        elif type(__backend_agg_dfs[9]).__module__ == \"pandas.core.frame\" or isinstance(__backend_agg_dfs[9], list):\n            # pandas dataframe\n            spark.createDataFrame(__backend_agg_dfs[9]).createOrReplaceTempView(\"DatabricksView4cea0f6\")\n        else:\n            __backend_agg_dfs[9].createOrReplaceTempView(\"DatabricksView4cea0f6\")\n        #run backend agg\n        display(spark.sql(\"\"\"WITH q AS (select * from DatabricksView4cea0f6) SELECT `Columns`,SUM(`Error_perc_for_range_check`) `column_f14b442827` FROM q GROUP BY `Columns`\"\"\"))\n    else:\n        displayHTML(\"dataframe no longer exists. If you're using dataframe.display(), use display(dataframe) instead.\")\n\n\nfinally:\n    spark.sql(\"drop view if exists DatabricksView4cea0f6\")\n    display = __backend_agg_display_orig\n    del __backend_agg_display_new\n    del __backend_agg_display_orig\n    del __backend_agg_dfs\n    del __backend_agg_user_code_fn\n\n",
       "commandTitle": "Visualization 1",
       "commandType": "auto",
       "commandVersion": 0,
       "commentThread": [],
       "commentsVisible": false,
       "contentSha256Hex": null,
       "customPlotOptions": {
        "redashChart": [
         {
          "key": "type",
          "value": "CHART"
         },
         {
          "key": "options",
          "value": {
           "alignYAxesAtZero": true,
           "coefficient": 1,
           "columnConfigurationMap": {
            "x": {
             "column": "Columns",
             "id": "column_f14b442826"
            },
            "y": [
             {
              "column": "Error_perc_for_range_check",
              "id": "column_f14b442827",
              "transform": "SUM"
             }
            ]
           },
           "dateTimeFormat": "DD/MM/YYYY HH:mm",
           "direction": {
            "type": "counterclockwise"
           },
           "error_y": {
            "type": "data",
            "visible": true
           },
           "globalSeriesType": "column",
           "isAggregationOn": true,
           "legend": {
            "traceorder": "normal"
           },
           "missingValuesAsZero": true,
           "numberFormat": "0,0.[00000]",
           "percentFormat": "0[.]00%",
           "series": {
            "error_y": {
             "type": "data",
             "visible": true
            },
            "stacking": null
           },
           "seriesOptions": {
            "column_f14b442827": {
             "color": "#00FFFF",
             "name": "Error_perc_for_range_check",
             "yAxis": 0
            }
           },
           "showDataLabels": false,
           "sizemode": "diameter",
           "sortX": true,
           "sortY": true,
           "swappedAxes": true,
           "textFormat": "",
           "useAggregationsUi": true,
           "valuesOptions": {},
           "version": 2,
           "xAxis": {
            "labels": {
             "enabled": true
            },
            "type": "-"
           },
           "yAxis": [
            {
             "type": "-"
            },
            {
             "opposite": true,
             "type": "-"
            }
           ]
          }
         }
        ]
       },
       "datasetPreviewNameToCmdIdMap": {},
       "diffDeletes": [],
       "diffInserts": [],
       "displayType": "redashChart",
       "error": null,
       "errorDetails": null,
       "errorSummary": null,
       "errorTraceType": null,
       "finishTime": 0,
       "globalVars": {},
       "guid": "",
       "height": "auto",
       "hideCommandCode": false,
       "hideCommandResult": false,
       "iPythonMetadata": null,
       "inputWidgets": {},
       "isLockedInExamMode": false,
       "latestUser": "a user",
       "latestUserId": null,
       "listResultMetadata": null,
       "metadata": {},
       "nuid": "197cd736-2e3f-47f9-a74f-283a01cca6ce",
       "origId": 0,
       "parentHierarchy": [],
       "pivotAggregation": null,
       "pivotColumns": null,
       "position": 9.0,
       "resultDbfsErrorMessage": null,
       "resultDbfsStatus": "INLINED_IN_TREE",
       "results": null,
       "showCommandTitle": false,
       "startTime": 0,
       "state": "input",
       "streamStates": {},
       "subcommandOptions": {
        "queryPlan": {
         "groups": [
          {
           "column": "Columns",
           "type": "column"
          }
         ],
         "selects": [
          {
           "column": "Columns",
           "type": "column"
          },
          {
           "alias": "column_f14b442827",
           "args": [
            {
             "column": "Error_perc_for_range_check",
             "type": "column"
            }
           ],
           "function": "SUM",
           "type": "function"
          }
         ]
        }
       },
       "submitTime": 0,
       "subtype": "tableResultSubCmd.visualization",
       "tableResultIndex": 9,
       "useConsistentColors": false,
       "version": "CommandV1",
       "width": "auto",
       "workflows": [],
       "xColumns": null,
       "yColumns": null
      }
     },
     "output_type": "display_data"
    },
    {
     "output_type": "display_data",
     "data": {
      "text/html": [
       "<style scoped>\n",
       "  .table-result-container {\n",
       "    max-height: 300px;\n",
       "    overflow: auto;\n",
       "  }\n",
       "  table, th, td {\n",
       "    border: 1px solid black;\n",
       "    border-collapse: collapse;\n",
       "  }\n",
       "  th, td {\n",
       "    padding: 5px;\n",
       "  }\n",
       "  th {\n",
       "    text-align: left;\n",
       "  }\n",
       "</style><div class='table-result-container'><table class='table-result'><thead style='background-color: white'><tr><th>Columns</th><th>Error_perc_for_format_check</th></tr></thead><tbody></tbody></table></div>"
      ]
     },
     "metadata": {
      "application/vnd.databricks.v1+output": {
       "addedWidgets": {},
       "aggData": [],
       "aggError": "",
       "aggOverflow": false,
       "aggSchema": [],
       "aggSeriesLimitReached": false,
       "aggType": "",
       "arguments": {},
       "columnCustomDisplayInfos": {},
       "data": [],
       "datasetInfos": [],
       "dbfsResultPath": null,
       "isJsonSchema": true,
       "metadata": {},
       "overflow": false,
       "plotOptions": {
        "customPlotOptions": {},
        "displayType": "table",
        "pivotAggregation": null,
        "pivotColumns": null,
        "xColumns": null,
        "yColumns": null
       },
       "removedWidgets": [],
       "schema": [
        {
         "metadata": "{}",
         "name": "Columns",
         "type": "\"string\""
        },
        {
         "metadata": "{}",
         "name": "Error_perc_for_format_check",
         "type": "\"float\""
        }
       ],
       "type": "table"
      }
     },
     "output_type": "display_data"
    },
    {
     "output_type": "display_data",
     "data": {
      "text/html": [
       "<style scoped>\n",
       "  .table-result-container {\n",
       "    max-height: 300px;\n",
       "    overflow: auto;\n",
       "  }\n",
       "  table, th, td {\n",
       "    border: 1px solid black;\n",
       "    border-collapse: collapse;\n",
       "  }\n",
       "  th, td {\n",
       "    padding: 5px;\n",
       "  }\n",
       "  th {\n",
       "    text-align: left;\n",
       "  }\n",
       "</style><div class='table-result-container'><table class='table-result'><thead style='background-color: white'><tr><th>Columns</th><th>Error_perc_for_value_check</th></tr></thead><tbody><tr><td>Entity</td><td>0.10961907</td></tr></tbody></table></div>"
      ]
     },
     "metadata": {
      "application/vnd.databricks.v1+output": {
       "addedWidgets": {},
       "aggData": [],
       "aggError": "",
       "aggOverflow": false,
       "aggSchema": [],
       "aggSeriesLimitReached": false,
       "aggType": "",
       "arguments": {},
       "columnCustomDisplayInfos": {},
       "data": [
        [
         "Entity",
         0.10961907
        ]
       ],
       "datasetInfos": [],
       "dbfsResultPath": null,
       "isJsonSchema": true,
       "metadata": {},
       "overflow": false,
       "plotOptions": {
        "customPlotOptions": {},
        "displayType": "table",
        "pivotAggregation": null,
        "pivotColumns": null,
        "xColumns": null,
        "yColumns": null
       },
       "removedWidgets": [],
       "schema": [
        {
         "metadata": "{}",
         "name": "Columns",
         "type": "\"string\""
        },
        {
         "metadata": "{}",
         "name": "Error_perc_for_value_check",
         "type": "\"float\""
        }
       ],
       "type": "table"
      }
     },
     "output_type": "display_data"
    },
    {
     "output_type": "display_data",
     "data": {
      "text/plain": [
       "Databricks visualization. Run in Databricks to view."
      ]
     },
     "metadata": {
      "application/vnd.databricks.v1.subcommand+json": {
       "baseErrorDetails": null,
       "bindings": {},
       "collapsed": false,
       "command": "%python\n__backend_agg_display_orig = display\n__backend_agg_dfs = []\ndef __backend_agg_display_new(df):\n    __backend_agg_df_modules = [\"pandas.core.frame\", \"databricks.koalas.frame\", \"pyspark.sql.dataframe\", \"pyspark.pandas.frame\", \"pyspark.sql.connect.dataframe\"]\n    if (type(df).__module__ in __backend_agg_df_modules and type(df).__name__ == 'DataFrame') or isinstance(df, list):\n        __backend_agg_dfs.append(df)\n\ndisplay = __backend_agg_display_new\n\ndef __backend_agg_user_code_fn():\n    import base64\n    exec(base64.standard_b64decode(\"CmlmIF9fbmFtZV9fID09ICdfX21haW5fXyc6CiAgICBmb3IgaSBpbiByYW5nZSg1KToKICAgICAgICBpZiBpID09IDI6CiAgICAgICAgICAgIGNvbnRpbnVlCiAgICAgICAgcnVuX3F1YWxpdHlfY2hlY2tzKGkpCgoKICAgIHByaW50KCItIioxMDApCg==\").decode())\n\ntry:\n    # run user code\n    __backend_agg_user_code_fn()\n\n    #reset display function\n    display = __backend_agg_display_orig\n\n    if len(__backend_agg_dfs) > 11:\n        # create a temp view\n        if type(__backend_agg_dfs[11]).__module__ == \"databricks.koalas.frame\":\n            # koalas dataframe\n            __backend_agg_dfs[11].to_spark().createOrReplaceTempView(\"DatabricksViewa06a286\")\n        elif type(__backend_agg_dfs[11]).__module__ == \"pandas.core.frame\" or isinstance(__backend_agg_dfs[11], list):\n            # pandas dataframe\n            spark.createDataFrame(__backend_agg_dfs[11]).createOrReplaceTempView(\"DatabricksViewa06a286\")\n        else:\n            __backend_agg_dfs[11].createOrReplaceTempView(\"DatabricksViewa06a286\")\n        #run backend agg\n        display(spark.sql(\"\"\"WITH q AS (select * from DatabricksViewa06a286) SELECT `Columns`,SUM(`Error_perc_for_value_check`) `column_f14b442830` FROM q GROUP BY `Columns`\"\"\"))\n    else:\n        displayHTML(\"dataframe no longer exists. If you're using dataframe.display(), use display(dataframe) instead.\")\n\n\nfinally:\n    spark.sql(\"drop view if exists DatabricksViewa06a286\")\n    display = __backend_agg_display_orig\n    del __backend_agg_display_new\n    del __backend_agg_display_orig\n    del __backend_agg_dfs\n    del __backend_agg_user_code_fn\n\n",
       "commandTitle": "Visualization 1",
       "commandType": "auto",
       "commandVersion": 0,
       "commentThread": [],
       "commentsVisible": false,
       "contentSha256Hex": null,
       "customPlotOptions": {
        "redashChart": [
         {
          "key": "type",
          "value": "CHART"
         },
         {
          "key": "options",
          "value": {
           "alignYAxesAtZero": true,
           "coefficient": 1,
           "columnConfigurationMap": {
            "x": {
             "column": "Columns",
             "id": "column_f14b442829"
            },
            "y": [
             {
              "column": "Error_perc_for_value_check",
              "id": "column_f14b442830",
              "transform": "SUM"
             }
            ]
           },
           "dateTimeFormat": "DD/MM/YYYY HH:mm",
           "direction": {
            "type": "counterclockwise"
           },
           "error_y": {
            "type": "data",
            "visible": true
           },
           "globalSeriesType": "column",
           "isAggregationOn": true,
           "legend": {
            "traceorder": "normal"
           },
           "missingValuesAsZero": true,
           "numberFormat": "0,0.[00000]",
           "percentFormat": "0[.]00%",
           "series": {
            "error_y": {
             "type": "data",
             "visible": true
            },
            "stacking": null
           },
           "seriesOptions": {
            "column_f14b442830": {
             "color": "#9D00FF",
             "name": "Error_perc_for_value_check",
             "yAxis": 0
            }
           },
           "showDataLabels": false,
           "sizemode": "diameter",
           "sortX": true,
           "sortY": true,
           "swappedAxes": true,
           "textFormat": "",
           "useAggregationsUi": true,
           "valuesOptions": {},
           "version": 2,
           "xAxis": {
            "labels": {
             "enabled": true
            },
            "type": "-"
           },
           "yAxis": [
            {
             "type": "-"
            },
            {
             "opposite": true,
             "type": "-"
            }
           ]
          }
         }
        ]
       },
       "datasetPreviewNameToCmdIdMap": {},
       "diffDeletes": [],
       "diffInserts": [],
       "displayType": "redashChart",
       "error": null,
       "errorDetails": null,
       "errorSummary": null,
       "errorTraceType": null,
       "finishTime": 0,
       "globalVars": {},
       "guid": "",
       "height": "auto",
       "hideCommandCode": false,
       "hideCommandResult": false,
       "iPythonMetadata": null,
       "inputWidgets": {},
       "isLockedInExamMode": false,
       "latestUser": "a user",
       "latestUserId": null,
       "listResultMetadata": null,
       "metadata": {},
       "nuid": "9d22b5b9-0ef6-4e73-8956-74947551858e",
       "origId": 0,
       "parentHierarchy": [],
       "pivotAggregation": null,
       "pivotColumns": null,
       "position": 9.0,
       "resultDbfsErrorMessage": null,
       "resultDbfsStatus": "INLINED_IN_TREE",
       "results": null,
       "showCommandTitle": false,
       "startTime": 0,
       "state": "input",
       "streamStates": {},
       "subcommandOptions": {
        "queryPlan": {
         "groups": [
          {
           "column": "Columns",
           "type": "column"
          }
         ],
         "selects": [
          {
           "column": "Columns",
           "type": "column"
          },
          {
           "alias": "column_f14b442830",
           "args": [
            {
             "column": "Error_perc_for_value_check",
             "type": "column"
            }
           ],
           "function": "SUM",
           "type": "function"
          }
         ]
        }
       },
       "submitTime": 0,
       "subtype": "tableResultSubCmd.visualization",
       "tableResultIndex": 11,
       "useConsistentColors": false,
       "version": "CommandV1",
       "width": "auto",
       "workflows": [],
       "xColumns": null,
       "yColumns": null
      }
     },
     "output_type": "display_data"
    },
    {
     "output_type": "stream",
     "name": "stdout",
     "output_type": "stream",
     "text": [
      "Total errors:  1.403061224489796\nTotal errors:  22\n"
     ]
    },
    {
     "output_type": "display_data",
     "data": {
      "text/html": [
       "<style scoped>\n",
       "  .table-result-container {\n",
       "    max-height: 300px;\n",
       "    overflow: auto;\n",
       "  }\n",
       "  table, th, td {\n",
       "    border: 1px solid black;\n",
       "    border-collapse: collapse;\n",
       "  }\n",
       "  th, td {\n",
       "    padding: 5px;\n",
       "  }\n",
       "  th {\n",
       "    text-align: left;\n",
       "  }\n",
       "</style><div class='table-result-container'><table class='table-result'><thead style='background-color: white'><tr><th>Columns</th><th>Error_perc_for_null_check</th></tr></thead><tbody><tr><td>YEAR</td><td>0.31887755</td></tr><tr><td>OBS_VALUE</td><td>0.12755102</td></tr><tr><td>CROP_LABEL</td><td>0.0</td></tr><tr><td>FREQ</td><td>0.0</td></tr><tr><td>INDICATOR</td><td>0.0</td></tr><tr><td>TIME_FORMAT</td><td>0.0</td></tr><tr><td>UNIT_MULT</td><td>0.12755102</td></tr></tbody></table></div>"
      ]
     },
     "metadata": {
      "application/vnd.databricks.v1+output": {
       "addedWidgets": {},
       "aggData": [],
       "aggError": "",
       "aggOverflow": false,
       "aggSchema": [],
       "aggSeriesLimitReached": false,
       "aggType": "",
       "arguments": {},
       "columnCustomDisplayInfos": {},
       "data": [
        [
         "YEAR",
         0.31887755
        ],
        [
         "OBS_VALUE",
         0.12755102
        ],
        [
         "CROP_LABEL",
         0.0
        ],
        [
         "FREQ",
         0.0
        ],
        [
         "INDICATOR",
         0.0
        ],
        [
         "TIME_FORMAT",
         0.0
        ],
        [
         "UNIT_MULT",
         0.12755102
        ]
       ],
       "datasetInfos": [],
       "dbfsResultPath": null,
       "isJsonSchema": true,
       "metadata": {},
       "overflow": false,
       "plotOptions": {
        "customPlotOptions": {},
        "displayType": "table",
        "pivotAggregation": null,
        "pivotColumns": null,
        "xColumns": null,
        "yColumns": null
       },
       "removedWidgets": [],
       "schema": [
        {
         "metadata": "{}",
         "name": "Columns",
         "type": "\"string\""
        },
        {
         "metadata": "{}",
         "name": "Error_perc_for_null_check",
         "type": "\"float\""
        }
       ],
       "type": "table"
      }
     },
     "output_type": "display_data"
    },
    {
     "output_type": "display_data",
     "data": {
      "text/plain": [
       "Databricks visualization. Run in Databricks to view."
      ]
     },
     "metadata": {
      "application/vnd.databricks.v1.subcommand+json": {
       "baseErrorDetails": null,
       "bindings": {},
       "collapsed": false,
       "command": "%python\n__backend_agg_display_orig = display\n__backend_agg_dfs = []\ndef __backend_agg_display_new(df):\n    __backend_agg_df_modules = [\"pandas.core.frame\", \"databricks.koalas.frame\", \"pyspark.sql.dataframe\", \"pyspark.pandas.frame\", \"pyspark.sql.connect.dataframe\"]\n    if (type(df).__module__ in __backend_agg_df_modules and type(df).__name__ == 'DataFrame') or isinstance(df, list):\n        __backend_agg_dfs.append(df)\n\ndisplay = __backend_agg_display_new\n\ndef __backend_agg_user_code_fn():\n    import base64\n    exec(base64.standard_b64decode(\"CmlmIF9fbmFtZV9fID09ICdfX21haW5fXyc6CiAgICBmb3IgaSBpbiByYW5nZSg1KToKICAgICAgICBpZiBpID09IDI6CiAgICAgICAgICAgIGNvbnRpbnVlCiAgICAgICAgcnVuX3F1YWxpdHlfY2hlY2tzKGkpCgoKICAgIHByaW50KCItIioxMDApCg==\").decode())\n\ntry:\n    # run user code\n    __backend_agg_user_code_fn()\n\n    #reset display function\n    display = __backend_agg_display_orig\n\n    if len(__backend_agg_dfs) > 12:\n        # create a temp view\n        if type(__backend_agg_dfs[12]).__module__ == \"databricks.koalas.frame\":\n            # koalas dataframe\n            __backend_agg_dfs[12].to_spark().createOrReplaceTempView(\"DatabricksView25529a4\")\n        elif type(__backend_agg_dfs[12]).__module__ == \"pandas.core.frame\" or isinstance(__backend_agg_dfs[12], list):\n            # pandas dataframe\n            spark.createDataFrame(__backend_agg_dfs[12]).createOrReplaceTempView(\"DatabricksView25529a4\")\n        else:\n            __backend_agg_dfs[12].createOrReplaceTempView(\"DatabricksView25529a4\")\n        #run backend agg\n        display(spark.sql(\"\"\"WITH q AS (select * from DatabricksView25529a4) SELECT `Columns`,SUM(`Error_perc_for_null_check`) `column_f14b442833` FROM q GROUP BY `Columns`\"\"\"))\n    else:\n        displayHTML(\"dataframe no longer exists. If you're using dataframe.display(), use display(dataframe) instead.\")\n\n\nfinally:\n    spark.sql(\"drop view if exists DatabricksView25529a4\")\n    display = __backend_agg_display_orig\n    del __backend_agg_display_new\n    del __backend_agg_display_orig\n    del __backend_agg_dfs\n    del __backend_agg_user_code_fn\n\n",
       "commandTitle": "Visualization 1",
       "commandType": "auto",
       "commandVersion": 0,
       "commentThread": [],
       "commentsVisible": false,
       "contentSha256Hex": null,
       "customPlotOptions": {
        "redashChart": [
         {
          "key": "type",
          "value": "CHART"
         },
         {
          "key": "options",
          "value": {
           "alignYAxesAtZero": true,
           "coefficient": 1,
           "columnConfigurationMap": {
            "x": {
             "column": "Columns",
             "id": "column_f14b442832"
            },
            "y": [
             {
              "column": "Error_perc_for_null_check",
              "id": "column_f14b442833",
              "transform": "SUM"
             }
            ]
           },
           "dateTimeFormat": "DD/MM/YYYY HH:mm",
           "direction": {
            "type": "counterclockwise"
           },
           "error_y": {
            "type": "data",
            "visible": true
           },
           "globalSeriesType": "column",
           "isAggregationOn": true,
           "legend": {
            "traceorder": "normal"
           },
           "missingValuesAsZero": true,
           "numberFormat": "0,0.[00000]",
           "percentFormat": "0[.]00%",
           "series": {
            "error_y": {
             "type": "data",
             "visible": true
            },
            "stacking": null
           },
           "seriesOptions": {
            "column_f14b442833": {
             "color": "#FF00FF",
             "name": "Error_perc_for_null_check",
             "yAxis": 0
            }
           },
           "showDataLabels": false,
           "sizemode": "diameter",
           "sortX": true,
           "sortY": true,
           "swappedAxes": true,
           "textFormat": "",
           "useAggregationsUi": true,
           "valuesOptions": {},
           "version": 2,
           "xAxis": {
            "labels": {
             "enabled": true
            },
            "type": "-"
           },
           "yAxis": [
            {
             "type": "-"
            },
            {
             "opposite": true,
             "type": "-"
            }
           ]
          }
         }
        ]
       },
       "datasetPreviewNameToCmdIdMap": {},
       "diffDeletes": [],
       "diffInserts": [],
       "displayType": "redashChart",
       "error": null,
       "errorDetails": null,
       "errorSummary": null,
       "errorTraceType": null,
       "finishTime": 0,
       "globalVars": {},
       "guid": "",
       "height": "auto",
       "hideCommandCode": false,
       "hideCommandResult": false,
       "iPythonMetadata": null,
       "inputWidgets": {},
       "isLockedInExamMode": false,
       "latestUser": "a user",
       "latestUserId": null,
       "listResultMetadata": null,
       "metadata": {},
       "nuid": "a83fd1c2-21fb-44dc-87e4-28ff1ff6613a",
       "origId": 0,
       "parentHierarchy": [],
       "pivotAggregation": null,
       "pivotColumns": null,
       "position": 9.0,
       "resultDbfsErrorMessage": null,
       "resultDbfsStatus": "INLINED_IN_TREE",
       "results": null,
       "showCommandTitle": false,
       "startTime": 0,
       "state": "input",
       "streamStates": {},
       "subcommandOptions": {
        "queryPlan": {
         "groups": [
          {
           "column": "Columns",
           "type": "column"
          }
         ],
         "selects": [
          {
           "column": "Columns",
           "type": "column"
          },
          {
           "alias": "column_f14b442833",
           "args": [
            {
             "column": "Error_perc_for_null_check",
             "type": "column"
            }
           ],
           "function": "SUM",
           "type": "function"
          }
         ]
        }
       },
       "submitTime": 0,
       "subtype": "tableResultSubCmd.visualization",
       "tableResultIndex": 12,
       "useConsistentColors": false,
       "version": "CommandV1",
       "width": "auto",
       "workflows": [],
       "xColumns": null,
       "yColumns": null
      }
     },
     "output_type": "display_data"
    },
    {
     "output_type": "display_data",
     "data": {
      "text/html": [
       "<style scoped>\n",
       "  .table-result-container {\n",
       "    max-height: 300px;\n",
       "    overflow: auto;\n",
       "  }\n",
       "  table, th, td {\n",
       "    border: 1px solid black;\n",
       "    border-collapse: collapse;\n",
       "  }\n",
       "  th, td {\n",
       "    padding: 5px;\n",
       "  }\n",
       "  th {\n",
       "    text-align: left;\n",
       "  }\n",
       "</style><div class='table-result-container'><table class='table-result'><thead style='background-color: white'><tr><th>Columns</th><th>Error_perc_for_range_check</th></tr></thead><tbody></tbody></table></div>"
      ]
     },
     "metadata": {
      "application/vnd.databricks.v1+output": {
       "addedWidgets": {},
       "aggData": [],
       "aggError": "",
       "aggOverflow": false,
       "aggSchema": [],
       "aggSeriesLimitReached": false,
       "aggType": "",
       "arguments": {},
       "columnCustomDisplayInfos": {},
       "data": [],
       "datasetInfos": [],
       "dbfsResultPath": null,
       "isJsonSchema": true,
       "metadata": {},
       "overflow": false,
       "plotOptions": {
        "customPlotOptions": {},
        "displayType": "table",
        "pivotAggregation": null,
        "pivotColumns": null,
        "xColumns": null,
        "yColumns": null
       },
       "removedWidgets": [],
       "schema": [
        {
         "metadata": "{}",
         "name": "Columns",
         "type": "\"string\""
        },
        {
         "metadata": "{}",
         "name": "Error_perc_for_range_check",
         "type": "\"float\""
        }
       ],
       "type": "table"
      }
     },
     "output_type": "display_data"
    },
    {
     "output_type": "display_data",
     "data": {
      "text/html": [
       "<style scoped>\n",
       "  .table-result-container {\n",
       "    max-height: 300px;\n",
       "    overflow: auto;\n",
       "  }\n",
       "  table, th, td {\n",
       "    border: 1px solid black;\n",
       "    border-collapse: collapse;\n",
       "  }\n",
       "  th, td {\n",
       "    padding: 5px;\n",
       "  }\n",
       "  th {\n",
       "    text-align: left;\n",
       "  }\n",
       "</style><div class='table-result-container'><table class='table-result'><thead style='background-color: white'><tr><th>Columns</th><th>Error_perc_for_format_check</th></tr></thead><tbody></tbody></table></div>"
      ]
     },
     "metadata": {
      "application/vnd.databricks.v1+output": {
       "addedWidgets": {},
       "aggData": [],
       "aggError": "",
       "aggOverflow": false,
       "aggSchema": [],
       "aggSeriesLimitReached": false,
       "aggType": "",
       "arguments": {},
       "columnCustomDisplayInfos": {},
       "data": [],
       "datasetInfos": [],
       "dbfsResultPath": null,
       "isJsonSchema": true,
       "metadata": {},
       "overflow": false,
       "plotOptions": {
        "customPlotOptions": {},
        "displayType": "table",
        "pivotAggregation": null,
        "pivotColumns": null,
        "xColumns": null,
        "yColumns": null
       },
       "removedWidgets": [],
       "schema": [
        {
         "metadata": "{}",
         "name": "Columns",
         "type": "\"string\""
        },
        {
         "metadata": "{}",
         "name": "Error_perc_for_format_check",
         "type": "\"float\""
        }
       ],
       "type": "table"
      }
     },
     "output_type": "display_data"
    },
    {
     "output_type": "display_data",
     "data": {
      "text/html": [
       "<style scoped>\n",
       "  .table-result-container {\n",
       "    max-height: 300px;\n",
       "    overflow: auto;\n",
       "  }\n",
       "  table, th, td {\n",
       "    border: 1px solid black;\n",
       "    border-collapse: collapse;\n",
       "  }\n",
       "  th, td {\n",
       "    padding: 5px;\n",
       "  }\n",
       "  th {\n",
       "    text-align: left;\n",
       "  }\n",
       "</style><div class='table-result-container'><table class='table-result'><thead style='background-color: white'><tr><th>Columns</th><th>Error_perc_for_value_check</th></tr></thead><tbody><tr><td>INDICATOR</td><td>0.19132653</td></tr><tr><td>FREQ</td><td>0.44642857</td></tr><tr><td>TIME_FORMAT</td><td>0.19132653</td></tr></tbody></table></div>"
      ]
     },
     "metadata": {
      "application/vnd.databricks.v1+output": {
       "addedWidgets": {},
       "aggData": [],
       "aggError": "",
       "aggOverflow": false,
       "aggSchema": [],
       "aggSeriesLimitReached": false,
       "aggType": "",
       "arguments": {},
       "columnCustomDisplayInfos": {},
       "data": [
        [
         "INDICATOR",
         0.19132653
        ],
        [
         "FREQ",
         0.44642857
        ],
        [
         "TIME_FORMAT",
         0.19132653
        ]
       ],
       "datasetInfos": [],
       "dbfsResultPath": null,
       "isJsonSchema": true,
       "metadata": {},
       "overflow": false,
       "plotOptions": {
        "customPlotOptions": {},
        "displayType": "table",
        "pivotAggregation": null,
        "pivotColumns": null,
        "xColumns": null,
        "yColumns": null
       },
       "removedWidgets": [],
       "schema": [
        {
         "metadata": "{}",
         "name": "Columns",
         "type": "\"string\""
        },
        {
         "metadata": "{}",
         "name": "Error_perc_for_value_check",
         "type": "\"float\""
        }
       ],
       "type": "table"
      }
     },
     "output_type": "display_data"
    },
    {
     "output_type": "display_data",
     "data": {
      "text/plain": [
       "Databricks visualization. Run in Databricks to view."
      ]
     },
     "metadata": {
      "application/vnd.databricks.v1.subcommand+json": {
       "baseErrorDetails": null,
       "bindings": {},
       "collapsed": false,
       "command": "%python\n__backend_agg_display_orig = display\n__backend_agg_dfs = []\ndef __backend_agg_display_new(df):\n    __backend_agg_df_modules = [\"pandas.core.frame\", \"databricks.koalas.frame\", \"pyspark.sql.dataframe\", \"pyspark.pandas.frame\", \"pyspark.sql.connect.dataframe\"]\n    if (type(df).__module__ in __backend_agg_df_modules and type(df).__name__ == 'DataFrame') or isinstance(df, list):\n        __backend_agg_dfs.append(df)\n\ndisplay = __backend_agg_display_new\n\ndef __backend_agg_user_code_fn():\n    import base64\n    exec(base64.standard_b64decode(\"CmlmIF9fbmFtZV9fID09ICdfX21haW5fXyc6CiAgICBmb3IgaSBpbiByYW5nZSg1KToKICAgICAgICBpZiBpID09IDI6CiAgICAgICAgICAgIGNvbnRpbnVlCiAgICAgICAgcnVuX3F1YWxpdHlfY2hlY2tzKGkpCgoKICAgIHByaW50KCItIioxMDApCg==\").decode())\n\ntry:\n    # run user code\n    __backend_agg_user_code_fn()\n\n    #reset display function\n    display = __backend_agg_display_orig\n\n    if len(__backend_agg_dfs) > 15:\n        # create a temp view\n        if type(__backend_agg_dfs[15]).__module__ == \"databricks.koalas.frame\":\n            # koalas dataframe\n            __backend_agg_dfs[15].to_spark().createOrReplaceTempView(\"DatabricksViewcc06d35\")\n        elif type(__backend_agg_dfs[15]).__module__ == \"pandas.core.frame\" or isinstance(__backend_agg_dfs[15], list):\n            # pandas dataframe\n            spark.createDataFrame(__backend_agg_dfs[15]).createOrReplaceTempView(\"DatabricksViewcc06d35\")\n        else:\n            __backend_agg_dfs[15].createOrReplaceTempView(\"DatabricksViewcc06d35\")\n        #run backend agg\n        display(spark.sql(\"\"\"WITH q AS (select * from DatabricksViewcc06d35) SELECT `Columns`,SUM(`Error_perc_for_value_check`) `column_f14b442836` FROM q GROUP BY `Columns`\"\"\"))\n    else:\n        displayHTML(\"dataframe no longer exists. If you're using dataframe.display(), use display(dataframe) instead.\")\n\n\nfinally:\n    spark.sql(\"drop view if exists DatabricksViewcc06d35\")\n    display = __backend_agg_display_orig\n    del __backend_agg_display_new\n    del __backend_agg_display_orig\n    del __backend_agg_dfs\n    del __backend_agg_user_code_fn\n\n",
       "commandTitle": "Visualization 1",
       "commandType": "auto",
       "commandVersion": 0,
       "commentThread": [],
       "commentsVisible": false,
       "contentSha256Hex": null,
       "customPlotOptions": {
        "redashChart": [
         {
          "key": "type",
          "value": "CHART"
         },
         {
          "key": "options",
          "value": {
           "alignYAxesAtZero": true,
           "coefficient": 1,
           "columnConfigurationMap": {
            "x": {
             "column": "Columns",
             "id": "column_f14b442835"
            },
            "y": [
             {
              "column": "Error_perc_for_value_check",
              "id": "column_f14b442836",
              "transform": "SUM"
             }
            ]
           },
           "dateTimeFormat": "DD/MM/YYYY HH:mm",
           "direction": {
            "type": "counterclockwise"
           },
           "error_y": {
            "type": "data",
            "visible": true
           },
           "globalSeriesType": "column",
           "isAggregationOn": true,
           "legend": {
            "traceorder": "normal"
           },
           "missingValuesAsZero": true,
           "numberFormat": "0,0.[00000]",
           "percentFormat": "0[.]00%",
           "series": {
            "error_y": {
             "type": "data",
             "visible": true
            },
            "stacking": null
           },
           "seriesOptions": {
            "column_f14b442836": {
             "color": "#4DEEEA",
             "name": "Error_perc_for_value_check",
             "yAxis": 0
            }
           },
           "showDataLabels": false,
           "sizemode": "diameter",
           "sortX": true,
           "sortY": true,
           "swappedAxes": true,
           "textFormat": "",
           "useAggregationsUi": true,
           "valuesOptions": {},
           "version": 2,
           "xAxis": {
            "labels": {
             "enabled": true
            },
            "type": "-"
           },
           "yAxis": [
            {
             "type": "-"
            },
            {
             "opposite": true,
             "type": "-"
            }
           ]
          }
         }
        ]
       },
       "datasetPreviewNameToCmdIdMap": {},
       "diffDeletes": [],
       "diffInserts": [],
       "displayType": "redashChart",
       "error": null,
       "errorDetails": null,
       "errorSummary": null,
       "errorTraceType": null,
       "finishTime": 0,
       "globalVars": {},
       "guid": "",
       "height": "auto",
       "hideCommandCode": false,
       "hideCommandResult": false,
       "iPythonMetadata": null,
       "inputWidgets": {},
       "isLockedInExamMode": false,
       "latestUser": "a user",
       "latestUserId": null,
       "listResultMetadata": null,
       "metadata": {},
       "nuid": "999b6c27-a36e-4add-972d-06c86f3f3e79",
       "origId": 0,
       "parentHierarchy": [],
       "pivotAggregation": null,
       "pivotColumns": null,
       "position": 9.0,
       "resultDbfsErrorMessage": null,
       "resultDbfsStatus": "INLINED_IN_TREE",
       "results": null,
       "showCommandTitle": false,
       "startTime": 0,
       "state": "input",
       "streamStates": {},
       "subcommandOptions": {
        "queryPlan": {
         "groups": [
          {
           "column": "Columns",
           "type": "column"
          }
         ],
         "selects": [
          {
           "column": "Columns",
           "type": "column"
          },
          {
           "alias": "column_f14b442836",
           "args": [
            {
             "column": "Error_perc_for_value_check",
             "type": "column"
            }
           ],
           "function": "SUM",
           "type": "function"
          }
         ]
        }
       },
       "submitTime": 0,
       "subtype": "tableResultSubCmd.visualization",
       "tableResultIndex": 15,
       "useConsistentColors": false,
       "version": "CommandV1",
       "width": "auto",
       "workflows": [],
       "xColumns": null,
       "yColumns": null
      }
     },
     "output_type": "display_data"
    },
    {
     "output_type": "stream",
     "name": "stdout",
     "output_type": "stream",
     "text": [
      "----------------------------------------------------------------------------------------------------\n"
     ]
    }
   ],
   "source": [
    "\n",
    "if __name__ == '__main__':\n",
    "    for i in range(5):\n",
    "        if i == 2:\n",
    "            continue\n",
    "        run_quality_checks(i)\n",
    "\n",
    "\n",
    "    print(\"-\"*100)\n"
   ]
  },
  {
   "cell_type": "code",
   "execution_count": 0,
   "metadata": {
    "application/vnd.databricks.v1+cell": {
     "cellMetadata": {},
     "inputWidgets": {},
     "nuid": "a1a0452f-6106-4dd7-b74f-0ce9307c52aa",
     "showTitle": false,
     "title": ""
    }
   },
   "outputs": [],
   "source": [
    "\n"
   ]
  }
 ],
 "metadata": {
  "application/vnd.databricks.v1+notebook": {
   "dashboards": [
    {
     "elements": [],
     "globalVars": {},
     "guid": "",
     "layoutOption": {
      "grid": true,
      "stack": true
     },
     "nuid": "7b4e1cd7-9aa2-487e-ba21-e99d7dfaa0d0",
     "origId": 3023537550241134,
     "title": "Data_quality_tests",
     "version": "DashboardViewV1",
     "width": 1024
    },
    {
     "elements": [
      {
       "dashboardResultIndex": null,
       "elementNUID": "fb474d2b-ccfb-484d-9cf7-726089125df2",
       "elementType": "command",
       "guid": "3c5d895d-b12d-4be3-9d01-5b2fdf9e6ceb",
       "options": null,
       "position": {
        "height": 6,
        "width": 12,
        "x": 0,
        "y": 0,
        "z": null
       },
       "resultIndex": null
      },
      {
       "dashboardResultIndex": null,
       "elementNUID": "0638d944-ab71-48b5-b370-ab8bed4b5bc5",
       "elementType": "command",
       "guid": "af2052cd-64ff-4a7e-87b1-72386b30e9fc",
       "options": null,
       "position": {
        "height": 6,
        "width": 12,
        "x": 11,
        "y": 6,
        "z": null
       },
       "resultIndex": null
      }
     ],
     "globalVars": {},
     "guid": "",
     "layoutOption": {
      "grid": true,
      "stack": true
     },
     "nuid": "106776e1-87ca-400e-9a8f-f23f95abbd31",
     "origId": 3023537550241149,
     "title": "UK_Renewable_energy",
     "version": "DashboardViewV1",
     "width": 1024
    },
    {
     "elements": [
      {
       "dashboardResultIndex": null,
       "elementNUID": "4061b999-4451-4b34-a82d-e1549aaab223",
       "elementType": "command",
       "guid": "19de7aad-bdb1-4e12-b6f9-5b550304c177",
       "options": null,
       "position": {
        "height": 6,
        "width": 12,
        "x": 0,
        "y": 0,
        "z": null
       },
       "resultIndex": null
      },
      {
       "dashboardResultIndex": null,
       "elementNUID": "120ae937-4207-4fe4-a2b0-709802ee6c3e",
       "elementType": "command",
       "guid": "2a9f0a9d-f378-488b-b818-1bf84e02a040",
       "options": null,
       "position": {
        "height": 6,
        "width": 12,
        "x": 10,
        "y": 6,
        "z": null
       },
       "resultIndex": null
      },
      {
       "dashboardResultIndex": null,
       "elementNUID": "642bcdf4-94ce-40b9-ae91-3cc84e72d77e",
       "elementType": "command",
       "guid": "5521e005-896a-4de1-9ac1-f8eb7a8b7a7c",
       "options": null,
       "position": {
        "height": 6,
        "width": 12,
        "x": 0,
        "y": 12,
        "z": null
       },
       "resultIndex": null
      }
     ],
     "globalVars": {},
     "guid": "",
     "layoutOption": {
      "grid": true,
      "stack": false
     },
     "nuid": "e999f728-5aa7-41ce-bf30-4864b2270f87",
     "origId": 3023537550241152,
     "title": "EV_data",
     "version": "DashboardViewV1",
     "width": 1024
    },
    {
     "elements": [],
     "globalVars": {},
     "guid": "",
     "layoutOption": {
      "grid": true,
      "stack": true
     },
     "nuid": "216192e8-ace6-41d5-9e73-cd725bcf0413",
     "origId": 3023537550241153,
     "title": "Zero_Emmission",
     "version": "DashboardViewV1",
     "width": 1024
    },
    {
     "elements": [
      {
       "dashboardResultIndex": null,
       "elementNUID": "5fb9f6d3-7e86-42c4-914d-9d88eb17c40c",
       "elementType": "command",
       "guid": "145c31f6-143d-440d-be7e-cc28db22296f",
       "options": null,
       "position": {
        "height": 6,
        "width": 12,
        "x": 0,
        "y": 0,
        "z": null
       },
       "resultIndex": null
      },
      {
       "dashboardResultIndex": null,
       "elementNUID": "197cd736-2e3f-47f9-a74f-283a01cca6ce",
       "elementType": "command",
       "guid": "f985d8ac-a204-4860-b4a4-0bd2b1e03daa",
       "options": null,
       "position": {
        "height": 6,
        "width": 12,
        "x": 12,
        "y": 0,
        "z": null
       },
       "resultIndex": null
      },
      {
       "dashboardResultIndex": null,
       "elementNUID": "9d22b5b9-0ef6-4e73-8956-74947551858e",
       "elementType": "command",
       "guid": "fc5411f6-6c97-422a-8d8c-6c432a8d6b50",
       "options": null,
       "position": {
        "height": 6,
        "width": 12,
        "x": 0,
        "y": 6,
        "z": null
       },
       "resultIndex": null
      }
     ],
     "globalVars": {},
     "guid": "",
     "layoutOption": {
      "grid": true,
      "stack": true
     },
     "nuid": "61922f91-9c8e-425c-a820-d143ddd25e54",
     "origId": 3023537550241161,
     "title": "Global_Data",
     "version": "DashboardViewV1",
     "width": 1024
    },
    {
     "elements": [
      {
       "dashboardResultIndex": null,
       "elementNUID": "a83fd1c2-21fb-44dc-87e4-28ff1ff6613a",
       "elementType": "command",
       "guid": "7bca597d-3b51-437c-96da-0e9b8025d6fe",
       "options": null,
       "position": {
        "height": 6,
        "width": 12,
        "x": 0,
        "y": 0,
        "z": null
       },
       "resultIndex": null
      },
      {
       "dashboardResultIndex": null,
       "elementNUID": "fd61a572-99ed-42e8-bd4e-fd16d4dc773a",
       "elementType": "command",
       "guid": "ae071c7c-2729-4251-a4a1-29cd222481ee",
       "options": null,
       "position": {
        "height": 6,
        "width": 12,
        "x": 0,
        "y": 12,
        "z": null
       },
       "resultIndex": null
      },
      {
       "dashboardResultIndex": null,
       "elementNUID": "999b6c27-a36e-4add-972d-06c86f3f3e79",
       "elementType": "command",
       "guid": "f43b3fc8-7c2a-48a3-9699-652099a5ed53",
       "options": null,
       "position": {
        "height": 6,
        "width": 12,
        "x": 0,
        "y": 6,
        "z": null
       },
       "resultIndex": null
      }
     ],
     "globalVars": {},
     "guid": "",
     "layoutOption": {
      "grid": true,
      "stack": true
     },
     "nuid": "81a70c73-5926-4fba-a5ec-025a42e31a95",
     "origId": 3023537550241163,
     "title": "Agricultural",
     "version": "DashboardViewV1",
     "width": 1024
    }
   ],
   "language": "python",
   "notebookMetadata": {
    "pythonIndentUnit": 4
   },
   "notebookName": "Quality_Test",
   "widgets": {}
  }
 },
 "nbformat": 4,
 "nbformat_minor": 0
}
